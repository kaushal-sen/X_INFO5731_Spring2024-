{
  "nbformat": 4,
  "nbformat_minor": 0,
  "metadata": {
    "colab": {
      "provenance": [],
      "authorship_tag": "ABX9TyM79nd/xD+CuEfDQw5kxuN9",
      "include_colab_link": true
    },
    "kernelspec": {
      "name": "python3",
      "display_name": "Python 3"
    },
    "language_info": {
      "name": "python"
    }
  },
  "cells": [
    {
      "cell_type": "markdown",
      "metadata": {
        "id": "view-in-github",
        "colab_type": "text"
      },
      "source": [
        "<a href=\"https://colab.research.google.com/github/kaushal-sen/X_INFO5731_Spring2024-/blob/main/In_class_exercise_XX.ipynb\" target=\"_parent\"><img src=\"https://colab.research.google.com/assets/colab-badge.svg\" alt=\"Open In Colab\"/></a>"
      ]
    },
    {
      "cell_type": "code",
      "execution_count": null,
      "metadata": {
        "id": "NYuPCtkdcygk"
      },
      "outputs": [],
      "source": [
        "# Program for prime numbers\n",
        "\n",
        "def is_prime(n):\n",
        "  \"\"\"\n",
        "  Check if a number is prime.\n",
        "\n",
        "  Args:\n",
        "    n: The number to check.\n",
        "\n",
        "  Returns:\n",
        "    True if n is prime, False otherwise.\n",
        "  \"\"\"\n",
        "\n",
        "  # If n is 1, it is not prime.\n",
        "  if n == 1:\n",
        "    return False\n",
        "\n",
        "  # Iterate over all numbers from 2 to the square root of n.\n",
        "  for i in range(2, int(n ** 0.5) + 1):\n",
        "    # If n is divisible by any number from 2 to its square root, it is not prime.\n",
        "    if n % i == 0:\n",
        "      return False\n",
        "\n",
        "  # If n is not divisible by any number from 2 to its square root, it is prime.\n",
        "  return True\n",
        "\n",
        "# Get the user input.\n",
        "n = int(input(\"Enter a number: \"))\n",
        "\n",
        "# Check if the number is prime.\n",
        "if is_prime(n):\n",
        "  print(\"The number is prime.\")\n",
        "else:\n",
        "  print(\"The number is not prime.\")\n"
      ]
    }
  ]
}