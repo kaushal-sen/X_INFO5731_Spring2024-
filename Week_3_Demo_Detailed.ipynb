{
  "cells": [
    {
      "cell_type": "markdown",
      "metadata": {
        "id": "view-in-github",
        "colab_type": "text"
      },
      "source": [
        "<a href=\"https://colab.research.google.com/github/kaushal-sen/X_INFO5731_Spring2024-/blob/main/Week_3_Demo_Detailed.ipynb\" target=\"_parent\"><img src=\"https://colab.research.google.com/assets/colab-badge.svg\" alt=\"Open In Colab\"/></a>"
      ]
    },
    {
      "cell_type": "markdown",
      "source": [
        "Week-3 Code Demo"
      ],
      "metadata": {
        "id": "1uBYltdlOvhN"
      },
      "id": "1uBYltdlOvhN"
    },
    {
      "cell_type": "markdown",
      "source": [
        "This demo contains the below topics:\\\n",
        ". Arrays\\\n",
        ". Json\\\n",
        ". Date\\\n",
        ". Classes and objects\\\n",
        ". Functions\\\n",
        ". Files\\\n",
        ". DataFrames"
      ],
      "metadata": {
        "id": "op_cVepdPkK2"
      },
      "id": "op_cVepdPkK2"
    },
    {
      "cell_type": "markdown",
      "source": [
        "# Arrays"
      ],
      "metadata": {
        "id": "hGeFpz0PHRHJ"
      },
      "id": "hGeFpz0PHRHJ"
    },
    {
      "cell_type": "code",
      "source": [
        "# Creation of Array\n",
        "\n",
        "# importing \"array\" for array creations\n",
        "import array as arr\n",
        "\n",
        "# creating an array with integer type\n",
        "# i represents the type of array i.e. integer array\n",
        "a = arr.array('i', [1, 2, 3])\n",
        "\n",
        "# printing original array\n",
        "print(\"The new created array is : \", end=\" \")\n",
        "for i in range(0, 3):\n",
        "    print(a[i], end=\" \")\n",
        "\n",
        "# creating an array with double type\n",
        "b = arr.array('d', [2.5, 3.2, 3.3])\n",
        "\n",
        "# printing original array\n",
        "print(\"\\nThe new created array is : \", end=\" \")\n",
        "for i in range(0, 3):\n",
        "    print(b[i], end=\" \")"
      ],
      "metadata": {
        "colab": {
          "base_uri": "https://localhost:8080/"
        },
        "id": "6pilD0Qe_n7v",
        "outputId": "a248f7c4-9b10-4217-d0ce-98e7010e6909"
      },
      "id": "6pilD0Qe_n7v",
      "execution_count": null,
      "outputs": [
        {
          "output_type": "stream",
          "name": "stdout",
          "text": [
            "The new created array is :  1 2 3 \n",
            "The new created array is :  2.5 3.2 3.3 "
          ]
        }
      ]
    },
    {
      "cell_type": "code",
      "source": [
        "# inserting array using\n",
        "# insert() function\n",
        "a.insert(1, 4)\n",
        "\n",
        "print(\"Array after insertion : \", end=\" \")\n",
        "for i in (a):\n",
        "    print(i, end=\" \")"
      ],
      "metadata": {
        "colab": {
          "base_uri": "https://localhost:8080/"
        },
        "id": "J7T6zgSw__qD",
        "outputId": "3fb90102-af18-4d89-929b-bd9b3c1a8bb3"
      },
      "id": "J7T6zgSw__qD",
      "execution_count": null,
      "outputs": [
        {
          "output_type": "stream",
          "name": "stdout",
          "text": [
            "Array after insertion :  1 4 2 3 "
          ]
        }
      ]
    },
    {
      "cell_type": "code",
      "source": [
        "# adding an element using append()\n",
        "b.append(4.4)\n",
        "\n",
        "print(\"Array after insertion : \", end=\" \")\n",
        "for i in (b):\n",
        "    print(i, end=\" \")\n",
        "print()"
      ],
      "metadata": {
        "colab": {
          "base_uri": "https://localhost:8080/"
        },
        "id": "rZga7pdIAKeO",
        "outputId": "d23b2e27-1f00-4b8f-b0b6-9919d882eb4c"
      },
      "id": "rZga7pdIAKeO",
      "execution_count": null,
      "outputs": [
        {
          "output_type": "stream",
          "name": "stdout",
          "text": [
            "Array after insertion :  2.5 3.2 3.3 4.4 \n"
          ]
        }
      ]
    },
    {
      "cell_type": "code",
      "source": [
        "# accessing element of array\n",
        "print(\"Access element is: \", a[0])\n",
        "\n",
        "# accessing element of array\n",
        "print(\"Access element is: \", a[3])\n",
        "\n",
        "# array with float type\n",
        "b = arr.array('d', [2.5, 3.2, 3.3])\n",
        "\n",
        "# accessing element of array\n",
        "print(\"Access element is: \", b[1])\n",
        "\n",
        "# accessing element of array\n",
        "print(\"Access element is: \", b[2])"
      ],
      "metadata": {
        "colab": {
          "base_uri": "https://localhost:8080/"
        },
        "id": "8U1LfW7VAQdl",
        "outputId": "5965e868-ed73-4a94-c1b5-66d79c27f6ef"
      },
      "id": "8U1LfW7VAQdl",
      "execution_count": null,
      "outputs": [
        {
          "output_type": "stream",
          "name": "stdout",
          "text": [
            "Access element is:  1\n",
            "Access element is:  3\n",
            "Access element is:  3.2\n",
            "Access element is:  3.3\n"
          ]
        }
      ]
    },
    {
      "cell_type": "code",
      "source": [
        "# creating a list\n",
        "l = [1, 2, 3, 4, 5, 6, 7, 8, 9, 10]\n",
        "\n",
        "a = arr.array('i', l)\n",
        "print(\"Initial Array: \")\n",
        "for i in (a):\n",
        "    print(i, end=\" \")\n",
        "\n",
        "# Print elements of a range\n",
        "# using Slice operation\n",
        "Sliced_array = a[3:8]\n",
        "print(\"\\nSlicing elements in a range 3-8: \")\n",
        "print(Sliced_array)\n",
        "\n",
        "# Print elements from a\n",
        "# pre-defined point to end\n",
        "Sliced_array = a[5:]\n",
        "print(\"\\nElements sliced from 5th \"\n",
        "      \"element till the end: \")\n",
        "print(Sliced_array)\n",
        "\n",
        "Sliced_array = a[-2:]\n",
        "print(\"\\nElements sliced in reverse \")\n",
        "print(Sliced_array)\n",
        "\n",
        "# Printing elements from\n",
        "# beginning till end\n",
        "Sliced_array = a[:]\n",
        "print(\"\\nPrinting all elements using slice operation: \")\n",
        "print(Sliced_array)"
      ],
      "metadata": {
        "colab": {
          "base_uri": "https://localhost:8080/"
        },
        "id": "E4B1fZrNAXlM",
        "outputId": "41fbcc51-367b-4815-d2f5-e2751b82de6c"
      },
      "id": "E4B1fZrNAXlM",
      "execution_count": null,
      "outputs": [
        {
          "output_type": "stream",
          "name": "stdout",
          "text": [
            "Initial Array: \n",
            "1 2 3 4 5 6 7 8 9 10 \n",
            "Slicing elements in a range 3-8: \n",
            "array('i', [4, 5, 6, 7, 8])\n",
            "\n",
            "Elements sliced from 5th element till the end: \n",
            "array('i', [6, 7, 8, 9, 10])\n",
            "\n",
            "Elements sliced in reverse \n",
            "array('i', [9, 10])\n",
            "\n",
            "Printing all elements using slice operation: \n",
            "array('i', [1, 2, 3, 4, 5, 6, 7, 8, 9, 10])\n"
          ]
        }
      ]
    },
    {
      "cell_type": "markdown",
      "id": "c2947957",
      "metadata": {
        "id": "c2947957"
      },
      "source": [
        "# Numpy arrays in python"
      ]
    },
    {
      "cell_type": "code",
      "source": [
        "# importing numpy module\n",
        "import numpy as np\n",
        "\n",
        "# creating list\n",
        "list_1 = [1, 2, 3, 4]\n",
        "list_2 = [5, 6, 7, 8]\n",
        "list_3 = [9, 10, 11, 12]\n",
        "\n",
        "# creating numpy array\n",
        "sample_array = np.array([list_1,\n",
        "                         list_2,\n",
        "                         list_3])\n",
        "\n",
        "print(\"Numpy multi dimensional array in python\\n\",\n",
        "      sample_array)\n",
        "# print shape of the array\n",
        "print(\"Shape of the array :\",\n",
        "      sample_array.shape)"
      ],
      "metadata": {
        "colab": {
          "base_uri": "https://localhost:8080/"
        },
        "id": "D9fmksflBGaz",
        "outputId": "ee4d7dd3-56e2-43db-a4e5-d06e19f01e8c"
      },
      "id": "D9fmksflBGaz",
      "execution_count": null,
      "outputs": [
        {
          "output_type": "stream",
          "name": "stdout",
          "text": [
            "Numpy multi dimensional array in python\n",
            " [[ 1  2  3  4]\n",
            " [ 5  6  7  8]\n",
            " [ 9 10 11 12]]\n",
            "Shape of the array : (3, 4)\n"
          ]
        }
      ]
    },
    {
      "cell_type": "code",
      "execution_count": null,
      "id": "ea353bcc",
      "metadata": {
        "colab": {
          "base_uri": "https://localhost:8080/"
        },
        "id": "ea353bcc",
        "outputId": "d726607d-9808-4afc-a81a-5ebf81cdbb13"
      },
      "outputs": [
        {
          "output_type": "stream",
          "name": "stdout",
          "text": [
            "Array with zeros\n",
            "[[0. 0. 0. 0.]\n",
            " [0. 0. 0. 0.]\n",
            " [0. 0. 0. 0.]]\n",
            "Array with ones\n",
            "[[1 1 1 1]\n",
            " [1 1 1 1]\n",
            " [1 1 1 1]]\n",
            "\n",
            " Full Array\n",
            "[[55. 55. 55.]\n",
            " [55. 55. 55.]\n",
            " [55. 55. 55.]]\n"
          ]
        }
      ],
      "source": [
        "# python program to create\n",
        "# Empty and Full Numpy arrays\n",
        "\n",
        "import numpy as np\n",
        "\n",
        "\n",
        "# Create an empty array\n",
        "empa = np.zeros([3, 4], dtype = float)\n",
        "print(\"Array with zeros\")\n",
        "print(empa)\n",
        "\n",
        "ones = np.ones([3, 4], dtype = int)\n",
        "print(\"Array with ones\")\n",
        "print(ones)\n",
        "\n",
        "\n",
        "# Create a full array\n",
        "flla = np.full([3, 3], 55, dtype=float)\n",
        "print(\"\\n Full Array\")\n",
        "print(flla)\n"
      ]
    },
    {
      "cell_type": "markdown",
      "id": "a3e44c8d",
      "metadata": {
        "id": "a3e44c8d"
      },
      "source": [
        "# Comparison of arrays"
      ]
    },
    {
      "cell_type": "code",
      "execution_count": null,
      "id": "0d6272ac",
      "metadata": {
        "colab": {
          "base_uri": "https://localhost:8080/"
        },
        "id": "0d6272ac",
        "outputId": "b23af983-b6cd-4610-b899-7aaafd18c5f5"
      },
      "outputs": [
        {
          "output_type": "stream",
          "name": "stdout",
          "text": [
            "Array a:  [101  99  87]\n",
            "Array b:  [897  97 111]\n",
            "a > b\n",
            "[False  True False]\n",
            "\n",
            "a >= b\n",
            "[False  True False]\n",
            "\n",
            "a < b\n",
            "[ True False  True]\n",
            "\n",
            "a <= b\n",
            "[ True False  True]\n"
          ]
        }
      ],
      "source": [
        "# program to implement comparison of arrays\n",
        "import numpy as np\n",
        "\n",
        "\n",
        "a = np.array([101, 99, 87])\n",
        "b = np.array([897, 97, 111])\n",
        "\n",
        "print(\"Array a: \", a)\n",
        "print(\"Array b: \", b)\n",
        "\n",
        "print(\"a > b\")\n",
        "print(np.greater(a, b))\n",
        "print()\n",
        "print(\"a >= b\")\n",
        "print(np.greater_equal(a, b))\n",
        "print()\n",
        "print(\"a < b\")\n",
        "print(np.less(a, b))\n",
        "print()\n",
        "print(\"a <= b\")\n",
        "print(np.less_equal(a, b))\n"
      ]
    },
    {
      "cell_type": "markdown",
      "source": [
        "**The fromiter() function create a new one-dimensional array from an iterable object.**"
      ],
      "metadata": {
        "id": "gjC1gA97BdDp"
      },
      "id": "gjC1gA97BdDp"
    },
    {
      "cell_type": "code",
      "source": [
        "import numpy as np\n",
        "\n",
        "var = \"Python\"\n",
        "\n",
        "arr = np.fromiter(var, dtype = 'U2')\n",
        "\n",
        "print(\"fromiter() array :\",\n",
        "      arr)"
      ],
      "metadata": {
        "colab": {
          "base_uri": "https://localhost:8080/"
        },
        "id": "rCsYYY_VBYJd",
        "outputId": "e1ddea31-1a34-4262-dd76-4eaab3d507ea"
      },
      "id": "rCsYYY_VBYJd",
      "execution_count": null,
      "outputs": [
        {
          "output_type": "stream",
          "name": "stdout",
          "text": [
            "fromiter() array : ['P' 'y' 't' 'h' 'o' 'n']\n"
          ]
        }
      ]
    },
    {
      "cell_type": "markdown",
      "source": [
        "**numpy.arange(): This is an inbuilt NumPy function that returns evenly spaced values within a given interval.**"
      ],
      "metadata": {
        "id": "G0mn7xLsBmdg"
      },
      "id": "G0mn7xLsBmdg"
    },
    {
      "cell_type": "code",
      "source": [
        "import numpy as np\n",
        "\n",
        "np.arange(1, 20 , 2,dtype = np.int32)"
      ],
      "metadata": {
        "colab": {
          "base_uri": "https://localhost:8080/"
        },
        "id": "1rvgixeIBiq3",
        "outputId": "784efa94-3850-4e64-acb8-90bdcaf654a0"
      },
      "id": "1rvgixeIBiq3",
      "execution_count": null,
      "outputs": [
        {
          "output_type": "execute_result",
          "data": {
            "text/plain": [
              "array([ 1,  3,  5,  7,  9, 11, 13, 15, 17, 19], dtype=int32)"
            ]
          },
          "metadata": {},
          "execution_count": 10
        }
      ]
    },
    {
      "cell_type": "markdown",
      "source": [
        "# Check whether the element is present in array or not"
      ],
      "metadata": {
        "id": "ymO9qwFNLU-e"
      },
      "id": "ymO9qwFNLU-e"
    },
    {
      "cell_type": "code",
      "execution_count": null,
      "id": "f20b48bc",
      "metadata": {
        "colab": {
          "base_uri": "https://localhost:8080/"
        },
        "id": "f20b48bc",
        "outputId": "569f773a-5917-448d-ea8c-c3488ba7f5af"
      },
      "outputs": [
        {
          "output_type": "stream",
          "name": "stdout",
          "text": [
            "Given array:\n",
            "[[2 3 0]\n",
            " [4 1 6]]\n",
            "True\n",
            "True\n",
            "True\n",
            "False\n",
            "False\n"
          ]
        }
      ],
      "source": [
        "# importing Numpy package\n",
        "import numpy as np\n",
        "\n",
        "# creating a Numpy array\n",
        "n_array = np.array([[2, 3, 0],\n",
        "                    [4, 1, 6]])\n",
        "\n",
        "print(\"Given array:\")\n",
        "print(n_array)\n",
        "\n",
        "# Checking whether specific values\n",
        "# are present in \"n_array\" or not\n",
        "print(2 in n_array)\n",
        "print(0 in n_array)\n",
        "print(6 in n_array)\n",
        "print(50 in n_array)\n",
        "print(10 in n_array)\n"
      ]
    },
    {
      "cell_type": "markdown",
      "id": "feb2da99",
      "metadata": {
        "id": "feb2da99"
      },
      "source": [
        "# Flatten an array"
      ]
    },
    {
      "cell_type": "code",
      "execution_count": null,
      "id": "2e7d701a",
      "metadata": {
        "colab": {
          "base_uri": "https://localhost:8080/"
        },
        "id": "2e7d701a",
        "outputId": "8da89a06-de4e-413d-9acb-d58573d84578"
      },
      "outputs": [
        {
          "output_type": "stream",
          "name": "stdout",
          "text": [
            "[[ 6  9]\n",
            " [ 8  5]\n",
            " [18 21]]\n",
            "\n",
            "[ 6  9  8  5 18 21]\n"
          ]
        }
      ],
      "source": [
        "# importing numpy as np\n",
        "import numpy as np\n",
        "\n",
        "# declare matrix with np\n",
        "gfg = np.array([[6, 9], [8, 5], [18, 21]])\n",
        "\n",
        "print(gfg)\n",
        "print()\n",
        "# using array.flatten() method\n",
        "print(gfg.flatten())"
      ]
    },
    {
      "cell_type": "markdown",
      "id": "4902812f",
      "metadata": {
        "id": "4902812f"
      },
      "source": [
        "# JSON library"
      ]
    },
    {
      "cell_type": "code",
      "execution_count": null,
      "id": "1775006b",
      "metadata": {
        "colab": {
          "base_uri": "https://localhost:8080/"
        },
        "id": "1775006b",
        "outputId": "127eca97-11d1-4665-fcee-09450fc3d547"
      },
      "outputs": [
        {
          "output_type": "stream",
          "name": "stdout",
          "text": [
            "30\n"
          ]
        }
      ],
      "source": [
        "import json\n",
        "\n",
        "# some JSON:\n",
        "x =  '{ \"name\":\"John\", \"age\":30, \"city\":\"New York\"}'\n",
        "\n",
        "# parse x:\n",
        "y = json.loads(x)\n",
        "\n",
        "# the result is a Python dictionary:\n",
        "print(y[\"age\"])"
      ]
    },
    {
      "cell_type": "markdown",
      "source": [
        "**convert the JSON objects to Python objects. Here, json.loads() method can be used to parse a valid JSON string and convert it into a Python Dictionary.**"
      ],
      "metadata": {
        "id": "Zfh0ESg_CCM0"
      },
      "id": "Zfh0ESg_CCM0"
    },
    {
      "cell_type": "code",
      "source": [
        "import json\n",
        "\n",
        "# JSON string\n",
        "employee = '{\"id\":\"09\", \"name\": \"Sam\", \"department\":\"Student\"}'\n",
        "print(\"This is JSON\", type(employee))\n",
        "\n",
        "print(\"\\nNow convert from JSON to Python\")\n",
        "\n",
        "# Convert string to Python dict\n",
        "employee_dict = json.loads(employee)\n",
        "print(\"Converted to Python\", type(employee_dict))\n",
        "print(employee_dict)"
      ],
      "metadata": {
        "colab": {
          "base_uri": "https://localhost:8080/"
        },
        "id": "roORA85VB3oX",
        "outputId": "81d2c02f-9a19-42ce-8e24-fa1648eaba2e"
      },
      "id": "roORA85VB3oX",
      "execution_count": null,
      "outputs": [
        {
          "output_type": "stream",
          "name": "stdout",
          "text": [
            "This is JSON <class 'str'>\n",
            "\n",
            "Now convert from JSON to Python\n",
            "Converted to Python <class 'dict'>\n",
            "{'id': '09', 'name': 'Sam', 'department': 'Student'}\n"
          ]
        }
      ]
    },
    {
      "cell_type": "markdown",
      "source": [
        "**json.dumps() function will convert a subset of Python objects into a JSON string.**"
      ],
      "metadata": {
        "id": "cN0WXicCDCGd"
      },
      "id": "cN0WXicCDCGd"
    },
    {
      "cell_type": "code",
      "source": [
        "# JSON string\n",
        "employee_dict = {'id': '09', 'name': 'Nitin', 'department': 'Finance'}\n",
        "print(\"This is Python\", type(employee_dict))\n",
        "\n",
        "print(\"\\nNow Convert from Python to JSON\")\n",
        "\n",
        "# Convert Python dict to JSON\n",
        "json_object = json.dumps(employee_dict, indent=4)\n",
        "print(\"Converted to JSON\", type(json_object))\n",
        "print(json_object)"
      ],
      "metadata": {
        "colab": {
          "base_uri": "https://localhost:8080/"
        },
        "id": "ZvPRqqdaCIEs",
        "outputId": "d87e1112-8a91-490c-bcd9-9f1bc6bea588"
      },
      "id": "ZvPRqqdaCIEs",
      "execution_count": null,
      "outputs": [
        {
          "output_type": "stream",
          "name": "stdout",
          "text": [
            "This is Python <class 'dict'>\n",
            "\n",
            "Now Convert from Python to JSON\n",
            "Converted to JSON <class 'str'>\n",
            "{\n",
            "    \"id\": \"09\",\n",
            "    \"name\": \"Nitin\",\n",
            "    \"department\": \"Finance\"\n",
            "}\n"
          ]
        }
      ]
    },
    {
      "cell_type": "markdown",
      "source": [
        "**CSV to JSON and JSON to CSV**"
      ],
      "metadata": {
        "id": "AFcO1EWQDS34"
      },
      "id": "AFcO1EWQDS34"
    },
    {
      "cell_type": "markdown",
      "id": "01ff3783",
      "metadata": {
        "id": "01ff3783"
      },
      "source": [
        "# Try, except and finally"
      ]
    },
    {
      "cell_type": "markdown",
      "source": [
        "**try**:\n",
        "    # code that may cause exception\n",
        "**except**:\n",
        "    # code to run when exception occurs"
      ],
      "metadata": {
        "id": "0G1NQcSyDdyp"
      },
      "id": "0G1NQcSyDdyp"
    },
    {
      "cell_type": "markdown",
      "source": [
        "**SyntaxError:**This exception is raised when the interpreter encounters a syntax error in the code, such as a misspelled keyword, a missing colon, or an unbalanced parenthesis."
      ],
      "metadata": {
        "id": "TjLkQhmiAkIy"
      },
      "id": "TjLkQhmiAkIy"
    },
    {
      "cell_type": "code",
      "source": [
        "amount = 10000\n",
        "if(amount > 2999)\n",
        "print(\"You are eligible to purchase Dsa Self Paced\")\n"
      ],
      "metadata": {
        "colab": {
          "base_uri": "https://localhost:8080/",
          "height": 140
        },
        "id": "NvvyiZTmAils",
        "outputId": "31cca16e-b056-42c1-ea0c-853ceb1509a5"
      },
      "id": "NvvyiZTmAils",
      "execution_count": null,
      "outputs": [
        {
          "output_type": "error",
          "ename": "SyntaxError",
          "evalue": "expected ':' (<ipython-input-1-6e9bf7ba577b>, line 2)",
          "traceback": [
            "\u001b[0;36m  File \u001b[0;32m\"<ipython-input-1-6e9bf7ba577b>\"\u001b[0;36m, line \u001b[0;32m2\u001b[0m\n\u001b[0;31m    if(amount > 2999)\u001b[0m\n\u001b[0m                     ^\u001b[0m\n\u001b[0;31mSyntaxError\u001b[0m\u001b[0;31m:\u001b[0m expected ':'\n"
          ]
        }
      ]
    },
    {
      "cell_type": "markdown",
      "source": [
        "**ZeroDivisionError:** This exception is raised when an attempt is made to divide a number by zero."
      ],
      "metadata": {
        "id": "XrXPCa19Aotu"
      },
      "id": "XrXPCa19Aotu"
    },
    {
      "cell_type": "code",
      "source": [
        "marks = 10000\n",
        "a = marks / 0\n",
        "print(a)\n"
      ],
      "metadata": {
        "colab": {
          "base_uri": "https://localhost:8080/",
          "height": 210
        },
        "id": "k0sneo3jAnPx",
        "outputId": "c726492f-fede-4e09-dda0-51a447e1851e"
      },
      "id": "k0sneo3jAnPx",
      "execution_count": null,
      "outputs": [
        {
          "output_type": "error",
          "ename": "ZeroDivisionError",
          "evalue": "division by zero",
          "traceback": [
            "\u001b[0;31m---------------------------------------------------------------------------\u001b[0m",
            "\u001b[0;31mZeroDivisionError\u001b[0m                         Traceback (most recent call last)",
            "\u001b[0;32m<ipython-input-2-61119ba057ed>\u001b[0m in \u001b[0;36m<cell line: 2>\u001b[0;34m()\u001b[0m\n\u001b[1;32m      1\u001b[0m \u001b[0mmarks\u001b[0m \u001b[0;34m=\u001b[0m \u001b[0;36m10000\u001b[0m\u001b[0;34m\u001b[0m\u001b[0;34m\u001b[0m\u001b[0m\n\u001b[0;32m----> 2\u001b[0;31m \u001b[0ma\u001b[0m \u001b[0;34m=\u001b[0m \u001b[0mmarks\u001b[0m \u001b[0;34m/\u001b[0m \u001b[0;36m0\u001b[0m\u001b[0;34m\u001b[0m\u001b[0;34m\u001b[0m\u001b[0m\n\u001b[0m\u001b[1;32m      3\u001b[0m \u001b[0mprint\u001b[0m\u001b[0;34m(\u001b[0m\u001b[0ma\u001b[0m\u001b[0;34m)\u001b[0m\u001b[0;34m\u001b[0m\u001b[0;34m\u001b[0m\u001b[0m\n",
            "\u001b[0;31mZeroDivisionError\u001b[0m: division by zero"
          ]
        }
      ]
    },
    {
      "cell_type": "markdown",
      "source": [
        "**TypeError**: This exception is raised when an operation or function is applied to an object of the wrong type, such as adding a string to an integer."
      ],
      "metadata": {
        "id": "SsRzrb-YAtfa"
      },
      "id": "SsRzrb-YAtfa"
    },
    {
      "cell_type": "code",
      "source": [
        "x = 5\n",
        "y = \"hello\"\n",
        "z = x + y\n"
      ],
      "metadata": {
        "colab": {
          "base_uri": "https://localhost:8080/",
          "height": 210
        },
        "id": "87BRpThUArzl",
        "outputId": "726032b8-65e3-4a02-a1c1-198515380df5"
      },
      "id": "87BRpThUArzl",
      "execution_count": null,
      "outputs": [
        {
          "output_type": "error",
          "ename": "TypeError",
          "evalue": "unsupported operand type(s) for +: 'int' and 'str'",
          "traceback": [
            "\u001b[0;31m---------------------------------------------------------------------------\u001b[0m",
            "\u001b[0;31mTypeError\u001b[0m                                 Traceback (most recent call last)",
            "\u001b[0;32m<ipython-input-3-01628386ab26>\u001b[0m in \u001b[0;36m<cell line: 3>\u001b[0;34m()\u001b[0m\n\u001b[1;32m      1\u001b[0m \u001b[0mx\u001b[0m \u001b[0;34m=\u001b[0m \u001b[0;36m5\u001b[0m\u001b[0;34m\u001b[0m\u001b[0;34m\u001b[0m\u001b[0m\n\u001b[1;32m      2\u001b[0m \u001b[0my\u001b[0m \u001b[0;34m=\u001b[0m \u001b[0;34m\"hello\"\u001b[0m\u001b[0;34m\u001b[0m\u001b[0;34m\u001b[0m\u001b[0m\n\u001b[0;32m----> 3\u001b[0;31m \u001b[0mz\u001b[0m \u001b[0;34m=\u001b[0m \u001b[0mx\u001b[0m \u001b[0;34m+\u001b[0m \u001b[0my\u001b[0m\u001b[0;34m\u001b[0m\u001b[0;34m\u001b[0m\u001b[0m\n\u001b[0m",
            "\u001b[0;31mTypeError\u001b[0m: unsupported operand type(s) for +: 'int' and 'str'"
          ]
        }
      ]
    },
    {
      "cell_type": "markdown",
      "source": [
        "**Custom Exceptions**"
      ],
      "metadata": {
        "id": "MBfHl_mrAzjU"
      },
      "id": "MBfHl_mrAzjU"
    },
    {
      "cell_type": "code",
      "source": [
        "x = 5\n",
        "y = \"hello\"\n",
        "try:\n",
        "\tz = x + y\n",
        "except TypeError:\n",
        "\tprint(\"Error: cannot add an int and a str\")"
      ],
      "metadata": {
        "colab": {
          "base_uri": "https://localhost:8080/"
        },
        "id": "MRysHxxtAxQx",
        "outputId": "920a61bf-e2e1-4d50-ce82-981dc6aa4c6a"
      },
      "id": "MRysHxxtAxQx",
      "execution_count": null,
      "outputs": [
        {
          "output_type": "stream",
          "name": "stdout",
          "text": [
            "Error: cannot add an int and a str\n"
          ]
        }
      ]
    },
    {
      "cell_type": "markdown",
      "source": [
        "**Multiple Exceptions**"
      ],
      "metadata": {
        "id": "Jz6fL1-7A3sa"
      },
      "id": "Jz6fL1-7A3sa"
    },
    {
      "cell_type": "code",
      "source": [
        "def fun(a):\n",
        "\tif a < 4:\n",
        "\n",
        "\t\tb = a/(a-3)\n",
        "\tprint(\"Value of b = \", b)\n",
        "\n",
        "try:\n",
        "\tfun(3)\n",
        "\tfun(5)\n",
        "except ZeroDivisionError:\n",
        "\tprint(\"ZeroDivisionError Occurred and Handled\")\n",
        "except NameError:\n",
        "\tprint(\"NameError Occurred and Handled\")"
      ],
      "metadata": {
        "colab": {
          "base_uri": "https://localhost:8080/"
        },
        "id": "pMGr2KHaA2H2",
        "outputId": "49d9feb5-c095-4957-9b99-2c694f58e884"
      },
      "id": "pMGr2KHaA2H2",
      "execution_count": null,
      "outputs": [
        {
          "output_type": "stream",
          "name": "stdout",
          "text": [
            "ZeroDivisionError Occurred and Handled\n"
          ]
        }
      ]
    },
    {
      "cell_type": "code",
      "source": [
        "def fun(a):\n",
        "\tif a < 4:\n",
        "\n",
        "\t\tb = a/(a-3)\n",
        "\tprint(\"Value of b = \", b)\n",
        "\n",
        "try:\n",
        "\t#fun(3)\n",
        "\tfun(5)\n",
        "except ZeroDivisionError:\n",
        "\tprint(\"ZeroDivisionError Occurred and Handled\")\n",
        "except NameError:\n",
        "\tprint(\"NameError Occurred and Handled\") # Value of a is greater than 4\n"
      ],
      "metadata": {
        "colab": {
          "base_uri": "https://localhost:8080/"
        },
        "id": "Qc_MOws3A5tF",
        "outputId": "5bbb36e0-0802-434f-8b99-db5581ae6944"
      },
      "id": "Qc_MOws3A5tF",
      "execution_count": null,
      "outputs": [
        {
          "output_type": "stream",
          "name": "stdout",
          "text": [
            "NameError Occurred and Handled\n"
          ]
        }
      ]
    },
    {
      "cell_type": "markdown",
      "source": [
        "**Finally Block** : Is always executed"
      ],
      "metadata": {
        "id": "YCVvi8UYA-F6"
      },
      "id": "YCVvi8UYA-F6"
    },
    {
      "cell_type": "code",
      "execution_count": null,
      "id": "88b1eddc",
      "metadata": {
        "colab": {
          "base_uri": "https://localhost:8080/"
        },
        "id": "88b1eddc",
        "outputId": "727add1f-efe7-4a4b-da31-7121f24af5c1"
      },
      "outputs": [
        {
          "output_type": "stream",
          "name": "stdout",
          "text": [
            "10\n",
            "The 'try except' is finished\n"
          ]
        }
      ],
      "source": [
        "x = 10\n",
        "\n",
        "try:\n",
        "    print(x)\n",
        "except:\n",
        "    print(\"Something went wrong\")\n",
        "\n",
        "finally:\n",
        "    print(\"The 'try except' is finished\")"
      ]
    },
    {
      "cell_type": "code",
      "execution_count": null,
      "id": "0000c3eb",
      "metadata": {
        "colab": {
          "base_uri": "https://localhost:8080/"
        },
        "id": "0000c3eb",
        "outputId": "c71d3ecc-7009-41a3-c9ed-79d0865145cb"
      },
      "outputs": [
        {
          "output_type": "stream",
          "name": "stdout",
          "text": [
            "Something went wrong\n",
            "The 'try except' is finished\n"
          ]
        }
      ],
      "source": [
        "x = \"Information science\"\n",
        "\n",
        "try:\n",
        "    print(x + 10)\n",
        "except:\n",
        "    print(\"Something went wrong\")\n",
        "\n",
        "finally:\n",
        "    print(\"The 'try except' is finished\")"
      ]
    },
    {
      "cell_type": "markdown",
      "source": [
        "**No exception handling.**"
      ],
      "metadata": {
        "id": "-0e-gPFiDsh1"
      },
      "id": "-0e-gPFiDsh1"
    },
    {
      "cell_type": "code",
      "source": [
        "# write your answer here\n",
        "# Get user input for parameters a and b\n",
        "a = float(input(\"Enter the value of 'a': \"))\n",
        "b = float(input(\"Enter the value of 'b': \"))\n",
        "\n",
        "# Calculate S using the formula\n",
        "S = 3.14 * (1 + a / b)**3\n",
        "\n",
        "# Display the result\n",
        "print(\"The result of S is:\", S)"
      ],
      "metadata": {
        "id": "LVHeCH8gdNbZ",
        "colab": {
          "base_uri": "https://localhost:8080/",
          "height": 279
        },
        "outputId": "4f75c38e-5ac7-4e9a-89bd-2ef4d08e16ea"
      },
      "id": "LVHeCH8gdNbZ",
      "execution_count": null,
      "outputs": [
        {
          "name": "stdout",
          "output_type": "stream",
          "text": [
            "Enter the value of 'a': 20\n",
            "Enter the value of 'b': 0\n"
          ]
        },
        {
          "output_type": "error",
          "ename": "ZeroDivisionError",
          "evalue": "float division by zero",
          "traceback": [
            "\u001b[0;31m---------------------------------------------------------------------------\u001b[0m",
            "\u001b[0;31mZeroDivisionError\u001b[0m                         Traceback (most recent call last)",
            "\u001b[0;32m<ipython-input-23-2b9d3c24599f>\u001b[0m in \u001b[0;36m<cell line: 7>\u001b[0;34m()\u001b[0m\n\u001b[1;32m      5\u001b[0m \u001b[0;34m\u001b[0m\u001b[0m\n\u001b[1;32m      6\u001b[0m \u001b[0;31m# Calculate S using the formula\u001b[0m\u001b[0;34m\u001b[0m\u001b[0;34m\u001b[0m\u001b[0m\n\u001b[0;32m----> 7\u001b[0;31m \u001b[0mS\u001b[0m \u001b[0;34m=\u001b[0m \u001b[0;36m3.14\u001b[0m \u001b[0;34m*\u001b[0m \u001b[0;34m(\u001b[0m\u001b[0;36m1\u001b[0m \u001b[0;34m+\u001b[0m \u001b[0ma\u001b[0m \u001b[0;34m/\u001b[0m \u001b[0mb\u001b[0m\u001b[0;34m)\u001b[0m\u001b[0;34m**\u001b[0m\u001b[0;36m3\u001b[0m\u001b[0;34m\u001b[0m\u001b[0;34m\u001b[0m\u001b[0m\n\u001b[0m\u001b[1;32m      8\u001b[0m \u001b[0;34m\u001b[0m\u001b[0m\n\u001b[1;32m      9\u001b[0m \u001b[0;31m# Display the result\u001b[0m\u001b[0;34m\u001b[0m\u001b[0;34m\u001b[0m\u001b[0m\n",
            "\u001b[0;31mZeroDivisionError\u001b[0m: float division by zero"
          ]
        }
      ]
    },
    {
      "cell_type": "markdown",
      "source": [
        "** Exception Handling Using try.**"
      ],
      "metadata": {
        "id": "hW8_MI24Dqlv"
      },
      "id": "hW8_MI24Dqlv"
    },
    {
      "cell_type": "code",
      "source": [
        "try:\n",
        "    # Step 1: Get user input for parameters 'a' and 'b'\n",
        "    a = float(input(\"Enter the value of 'a': \"))\n",
        "    b = float(input(\"Enter the value of 'b': \"))\n",
        "\n",
        "    # Check if 'b' is not zero to avoid division by zero\n",
        "    if b == 0:\n",
        "        raise ZeroDivisionError(\"Division by zero is not allowed.\")\n",
        "\n",
        "    # Step 2: Calculate S using the formula\n",
        "    S = 3.14 * ((1 + a / b) ** 3)\n",
        "\n",
        "    # Step 3: Display the result\n",
        "    print(f\"The result of S is: {S}\")\n",
        "\n",
        "except ValueError:\n",
        "    print(\"Invalid input. Please enter valid numeric values for 'a' and 'b.\")\n",
        "except ZeroDivisionError as e:\n",
        "    print(e)\n",
        "except Exception as e:\n",
        "    print(f\"An error occurred: {e}\")\n"
      ],
      "metadata": {
        "colab": {
          "base_uri": "https://localhost:8080/"
        },
        "id": "sbYkOmZfdKma",
        "outputId": "6ef7425a-3c3f-4f47-e399-a95183bef0de"
      },
      "id": "sbYkOmZfdKma",
      "execution_count": null,
      "outputs": [
        {
          "output_type": "stream",
          "name": "stdout",
          "text": [
            "Enter the value of 'a': 10\n",
            "Enter the value of 'b': 0\n",
            "Division by zero is not allowed.\n"
          ]
        }
      ]
    },
    {
      "cell_type": "markdown",
      "source": [
        "**Catching Specific Exceptions in Python**"
      ],
      "metadata": {
        "id": "pb2MVc4vD5lV"
      },
      "id": "pb2MVc4vD5lV"
    },
    {
      "cell_type": "code",
      "source": [
        "try:\n",
        "\n",
        "    even_numbers = [2,4,6,8]\n",
        "    print(even_numbers[5])\n",
        "\n",
        "except ZeroDivisionError:\n",
        "    print(\"Denominator cannot be 0.\")\n",
        "\n",
        "except IndexError:\n",
        "    print(\"Index Out of Bound.\")\n",
        "\n",
        "# Output: Index Out of Bound"
      ],
      "metadata": {
        "colab": {
          "base_uri": "https://localhost:8080/"
        },
        "id": "-9uOSKcnD0eT",
        "outputId": "fb23f317-4d33-44ee-ec97-7a644bffa735"
      },
      "id": "-9uOSKcnD0eT",
      "execution_count": null,
      "outputs": [
        {
          "output_type": "stream",
          "name": "stdout",
          "text": [
            "Index Out of Bound.\n"
          ]
        }
      ]
    },
    {
      "cell_type": "markdown",
      "source": [
        "**Python try with else clause**"
      ],
      "metadata": {
        "id": "tHZAGXgpEKIO"
      },
      "id": "tHZAGXgpEKIO"
    },
    {
      "cell_type": "code",
      "source": [
        "# program to print the reciprocal of even numbers\n",
        "\n",
        "try:\n",
        "    num = int(input(\"Enter a number: \"))\n",
        "    assert num % 2 == 0\n",
        "except:\n",
        "    print(\"Not an even number!\")\n",
        "else:\n",
        "    reciprocal = 1/num\n",
        "    print(reciprocal)"
      ],
      "metadata": {
        "colab": {
          "base_uri": "https://localhost:8080/"
        },
        "id": "MO7j8pYqEHPT",
        "outputId": "f7a8e6eb-c528-4407-a665-e477238375c3"
      },
      "id": "MO7j8pYqEHPT",
      "execution_count": null,
      "outputs": [
        {
          "output_type": "stream",
          "name": "stdout",
          "text": [
            "Enter a number: 12\n",
            "0.08333333333333333\n"
          ]
        }
      ]
    },
    {
      "cell_type": "markdown",
      "id": "4da82e66",
      "metadata": {
        "id": "4da82e66"
      },
      "source": [
        "# Dates library"
      ]
    },
    {
      "cell_type": "markdown",
      "source": [
        "Python has a module named datetime to work with dates and times."
      ],
      "metadata": {
        "id": "DXwI7Z1YEYaH"
      },
      "id": "DXwI7Z1YEYaH"
    },
    {
      "cell_type": "markdown",
      "source": [
        "**Get Current Date and Time**\n",
        "\n",
        "By default in UTC."
      ],
      "metadata": {
        "id": "IgD4HbG1Fiaw"
      },
      "id": "IgD4HbG1Fiaw"
    },
    {
      "cell_type": "code",
      "execution_count": null,
      "id": "77ba6057",
      "metadata": {
        "colab": {
          "base_uri": "https://localhost:8080/"
        },
        "id": "77ba6057",
        "outputId": "ed2b4684-36a6-4295-d0d1-b9dddbfe5071"
      },
      "outputs": [
        {
          "output_type": "stream",
          "name": "stdout",
          "text": [
            "2024-02-01 00:30:21.460174\n"
          ]
        }
      ],
      "source": [
        "import datetime\n",
        "\n",
        "x = datetime.datetime.now()\n",
        "print(x)"
      ]
    },
    {
      "cell_type": "code",
      "source": [
        "import datetime\n",
        "import pytz\n",
        "\n",
        "# Get the current date and time\n",
        "x = datetime.datetime.now()\n",
        "\n",
        "# Specify the Central Time Zone\n",
        "central_timezone = pytz.timezone('America/Chicago')\n",
        "\n",
        "# Localize the datetime object to the Central Time Zone\n",
        "central_time = x.astimezone(central_timezone)\n",
        "\n",
        "# Print the localized datetime along with the timezone information\n",
        "print(\"Current Date and Time in Central Time Zone:\", central_time)\n",
        "print(\"Timezone:\", central_time.tzinfo)\n"
      ],
      "metadata": {
        "colab": {
          "base_uri": "https://localhost:8080/"
        },
        "id": "ewYMElKSFDBo",
        "outputId": "177a6306-4c54-4749-b70b-e8dccf322f61"
      },
      "id": "ewYMElKSFDBo",
      "execution_count": null,
      "outputs": [
        {
          "output_type": "stream",
          "name": "stdout",
          "text": [
            "Current Date and Time in Central Time Zone: 2024-01-31 18:34:17.596972-06:00\n",
            "Timezone: America/Chicago\n"
          ]
        }
      ]
    },
    {
      "cell_type": "markdown",
      "source": [
        "**Get Current Date**"
      ],
      "metadata": {
        "id": "CYErf3jbFlov"
      },
      "id": "CYErf3jbFlov"
    },
    {
      "cell_type": "code",
      "source": [
        "# get current date\n",
        "current_date = datetime.date.today()\n",
        "\n",
        "print(current_date)"
      ],
      "metadata": {
        "colab": {
          "base_uri": "https://localhost:8080/"
        },
        "id": "666IJHWnFomu",
        "outputId": "39ad3337-099a-44a9-cec2-3a6ec7bd0a71"
      },
      "id": "666IJHWnFomu",
      "execution_count": null,
      "outputs": [
        {
          "output_type": "stream",
          "name": "stdout",
          "text": [
            "2024-02-01\n"
          ]
        }
      ]
    },
    {
      "cell_type": "markdown",
      "source": [
        "**Date object to represent a date**"
      ],
      "metadata": {
        "id": "0fCkkRjzGKll"
      },
      "id": "0fCkkRjzGKll"
    },
    {
      "cell_type": "code",
      "source": [
        "import datetime\n",
        "\n",
        "d = datetime.date(2024, 2, 21)\n",
        "print(d)"
      ],
      "metadata": {
        "colab": {
          "base_uri": "https://localhost:8080/"
        },
        "id": "_Qp_SM5aF7bZ",
        "outputId": "5225acbe-4530-47e2-f8de-21b0ad3bc24b"
      },
      "id": "_Qp_SM5aF7bZ",
      "execution_count": null,
      "outputs": [
        {
          "output_type": "stream",
          "name": "stdout",
          "text": [
            "2024-02-21\n"
          ]
        }
      ]
    },
    {
      "cell_type": "markdown",
      "source": [
        "**strftime-Convert date in string format**"
      ],
      "metadata": {
        "id": "x6jnEpEaF6O5"
      },
      "id": "x6jnEpEaF6O5"
    },
    {
      "cell_type": "code",
      "execution_count": null,
      "id": "c373f83a",
      "metadata": {
        "colab": {
          "base_uri": "https://localhost:8080/"
        },
        "id": "c373f83a",
        "outputId": "f7774761-9a1d-43be-ca5d-a2f8bc963600"
      },
      "outputs": [
        {
          "output_type": "stream",
          "name": "stdout",
          "text": [
            "Given date is 2024-02-21 00:00:00\n",
            "Wed, 21-Feb, 2024\n"
          ]
        }
      ],
      "source": [
        "from datetime import datetime\n",
        "\n",
        "given_date = datetime(2024, 2, 21)\n",
        "print(\"Given date is\", given_date)\n",
        "print(given_date.strftime('%a, %d-%b, %Y'))"
      ]
    },
    {
      "cell_type": "markdown",
      "source": [
        "**Print today's year, month and day**"
      ],
      "metadata": {
        "id": "wfwKstsXGUxP"
      },
      "id": "wfwKstsXGUxP"
    },
    {
      "cell_type": "code",
      "source": [
        "from datetime import date\n",
        "\n",
        "# date object of today's date\n",
        "today = date.today()\n",
        "\n",
        "print(\"Current year:\", today.year)\n",
        "print(\"Current month:\", today.month)\n",
        "print(\"Current day:\", today.day)"
      ],
      "metadata": {
        "colab": {
          "base_uri": "https://localhost:8080/"
        },
        "id": "V2K3bv1-GSTj",
        "outputId": "880f7125-08e1-41a1-b760-92dc4c2a1d0e"
      },
      "id": "V2K3bv1-GSTj",
      "execution_count": null,
      "outputs": [
        {
          "output_type": "stream",
          "name": "stdout",
          "text": [
            "Current year: 2024\n",
            "Current month: 2\n",
            "Current day: 1\n"
          ]
        }
      ]
    },
    {
      "cell_type": "markdown",
      "source": [
        "**Time object to represent time**"
      ],
      "metadata": {
        "id": "i5D-j4JzGeGz"
      },
      "id": "i5D-j4JzGeGz"
    },
    {
      "cell_type": "code",
      "source": [
        "from datetime import time\n",
        "\n",
        "# time(hour = 0, minute = 0, second = 0)\n",
        "a = time()\n",
        "print(a)\n",
        "\n",
        "# time(hour, minute and second)\n",
        "b = time(11, 34, 56)\n",
        "print(b)\n",
        "\n",
        "# time(hour, minute and second)\n",
        "c = time(hour = 11, minute = 34, second = 56)\n",
        "print(c)\n",
        "\n",
        "# time(hour, minute, second, microsecond)\n",
        "d = time(11, 34, 56, 234566)\n",
        "print(d)"
      ],
      "metadata": {
        "colab": {
          "base_uri": "https://localhost:8080/"
        },
        "id": "CUYtfhDSGbx_",
        "outputId": "d111749f-8f90-4f87-fb59-655aa167867c"
      },
      "id": "CUYtfhDSGbx_",
      "execution_count": null,
      "outputs": [
        {
          "output_type": "stream",
          "name": "stdout",
          "text": [
            "00:00:00\n",
            "11:34:56\n",
            "11:34:56\n",
            "11:34:56.234566\n"
          ]
        }
      ]
    },
    {
      "cell_type": "markdown",
      "source": [
        "**Python datetime object**"
      ],
      "metadata": {
        "id": "lCEh95TuGnjM"
      },
      "id": "lCEh95TuGnjM"
    },
    {
      "cell_type": "code",
      "source": [
        "from datetime import datetime\n",
        "\n",
        "# datetime(year, month, day)\n",
        "a = datetime(2022, 12, 28)\n",
        "print(a)\n",
        "\n",
        "# datetime(year, month, day, hour, minute, second, microsecond)\n",
        "b = datetime(2022, 12, 28, 23, 55, 59, 342380)\n",
        "print(b)"
      ],
      "metadata": {
        "colab": {
          "base_uri": "https://localhost:8080/"
        },
        "id": "htvUUyh1GlvL",
        "outputId": "ac646450-a21a-4ed9-b5f7-e776042599ee"
      },
      "id": "htvUUyh1GlvL",
      "execution_count": null,
      "outputs": [
        {
          "output_type": "stream",
          "name": "stdout",
          "text": [
            "2022-12-28 00:00:00\n",
            "2022-12-28 23:55:59.342380\n"
          ]
        }
      ]
    },
    {
      "cell_type": "markdown",
      "source": [
        "**Python datetime.timedelta Class**"
      ],
      "metadata": {
        "id": "o-rmnZxpGwZs"
      },
      "id": "o-rmnZxpGwZs"
    },
    {
      "cell_type": "code",
      "source": [
        "from datetime import datetime, date\n",
        "\n",
        "# using date()\n",
        "t1 = date(year = 2023, month = 9, day = 6)\n",
        "t2 = date(year = 2023, month = 9, day = 1)\n",
        "\n",
        "t3 = t1 - t2\n",
        "\n",
        "print(\"t3 =\", t3)\n",
        "\n",
        "# using datetime()\n",
        "t4 = datetime(year = 2023, month = 9, day = 12, hour = 7, minute = 9, second = 33)\n",
        "t5 = datetime(year = 2023, month = 8, day = 30, hour = 5, minute = 55, second = 13)\n",
        "t6 = t4 - t5\n",
        "print(\"t6 =\", t6)\n",
        "\n",
        "print(\"Type of t3 =\", type(t3))\n",
        "print(\"Type of t6 =\", type(t6))"
      ],
      "metadata": {
        "colab": {
          "base_uri": "https://localhost:8080/"
        },
        "id": "bynhq9WgGvqj",
        "outputId": "793b52e1-3855-4112-ad8b-12ef0ec0901c"
      },
      "id": "bynhq9WgGvqj",
      "execution_count": null,
      "outputs": [
        {
          "output_type": "stream",
          "name": "stdout",
          "text": [
            "t3 = 5 days, 0:00:00\n",
            "t6 = 13 days, 1:14:20\n",
            "Type of t3 = <class 'datetime.timedelta'>\n",
            "Type of t6 = <class 'datetime.timedelta'>\n"
          ]
        }
      ]
    },
    {
      "cell_type": "code",
      "source": [
        "from datetime import date, timedelta\n",
        "dt = date.today() - timedelta(5)\n",
        "print('Current Date :',date.today())\n",
        "print('5 days before Current Date :',dt)"
      ],
      "metadata": {
        "colab": {
          "base_uri": "https://localhost:8080/"
        },
        "id": "0GVoyJnhG2ES",
        "outputId": "e67c06ca-5575-47c4-9d55-b0905e986248"
      },
      "id": "0GVoyJnhG2ES",
      "execution_count": null,
      "outputs": [
        {
          "output_type": "stream",
          "name": "stdout",
          "text": [
            "Current Date : 2024-02-01\n",
            "5 days before Current Date : 2024-01-27\n"
          ]
        }
      ]
    },
    {
      "cell_type": "markdown",
      "id": "9f835ed4",
      "metadata": {
        "id": "9f835ed4"
      },
      "source": [
        "# Classes and objects"
      ]
    },
    {
      "cell_type": "markdown",
      "source": [
        "![Screenshot 2023-09-06 203416.png](data:image/png;base64,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)"
      ],
      "metadata": {
        "id": "0Cz61rV0Rujr"
      },
      "id": "0Cz61rV0Rujr"
    },
    {
      "cell_type": "code",
      "execution_count": null,
      "id": "6714b141",
      "metadata": {
        "colab": {
          "base_uri": "https://localhost:8080/"
        },
        "id": "6714b141",
        "outputId": "a9f47d26-0863-41a4-afb1-2edba0cdab85"
      },
      "outputs": [
        {
          "output_type": "stream",
          "name": "stdout",
          "text": [
            "John\n",
            "36\n",
            "Hello my name is John\n"
          ]
        }
      ],
      "source": [
        "class Person:\n",
        "    def __init__(self, name, age):\n",
        "        self.name = name\n",
        "        self.age = age\n",
        "    def myfunc(self):\n",
        "        print(\"Hello my name is \" + self.name)\n",
        "\n",
        "\n",
        "p1 = Person(\"John\", 36)\n",
        "\n",
        "print(p1.name)\n",
        "print(p1.age)\n",
        "p1.myfunc()"
      ]
    },
    {
      "cell_type": "markdown",
      "source": [
        "Objects will have combination of attributes and methods.\n",
        "Attributes - what object has or is. - name,age, height\n",
        "Methods - what object does - eat,sleep,talk"
      ],
      "metadata": {
        "id": "IsjDCUHlvFwm"
      },
      "id": "IsjDCUHlvFwm"
    },
    {
      "cell_type": "markdown",
      "source": [
        "**class ClassName:**\n",
        "    # class definition"
      ],
      "metadata": {
        "id": "oVCxH-M6HkF2"
      },
      "id": "oVCxH-M6HkF2"
    },
    {
      "cell_type": "code",
      "source": [
        "class Bike:\n",
        "    Model = \"\"\n",
        "    year = 0"
      ],
      "metadata": {
        "id": "rRi2sj_KHoGb"
      },
      "id": "rRi2sj_KHoGb",
      "execution_count": null,
      "outputs": []
    },
    {
      "cell_type": "markdown",
      "source": [
        "Here's the syntax to create an object.\n",
        "\n",
        "**objectName = ClassName()**"
      ],
      "metadata": {
        "id": "rBOT8DAGHz5n"
      },
      "id": "rBOT8DAGHz5n"
    },
    {
      "cell_type": "code",
      "source": [
        "# create class\n",
        "class Bike:\n",
        "    Model = \"Yamaha\"\n",
        "    year = 0\n",
        "\n",
        "# create objects of class\n",
        "bike1 = Bike()\n",
        "print(bike1.Model)"
      ],
      "metadata": {
        "colab": {
          "base_uri": "https://localhost:8080/"
        },
        "id": "tfste2p3H2XY",
        "outputId": "56bcf054-d9b5-454a-8355-7b00f200ee94"
      },
      "id": "tfste2p3H2XY",
      "execution_count": null,
      "outputs": [
        {
          "output_type": "stream",
          "name": "stdout",
          "text": [
            "Yamaha\n"
          ]
        }
      ]
    },
    {
      "cell_type": "markdown",
      "source": [
        "**Python Class and Objects**\n",
        "\n",
        "\n",
        "Assigning values"
      ],
      "metadata": {
        "id": "754CJ-T6INy_"
      },
      "id": "754CJ-T6INy_"
    },
    {
      "cell_type": "code",
      "source": [
        "# define a class\n",
        "class Bike:\n",
        "    name = \"\"\n",
        "    gear = 0\n",
        "\n",
        "# create object of class\n",
        "bike1 = Bike()\n",
        "\n",
        "# access attributes and assign new values\n",
        "bike1.gear = 11\n",
        "bike1.name = \"Mountain Bike\"\n",
        "\n",
        "print(f\"Name: {bike1.name}, Gears: {bike1.gear} \")"
      ],
      "metadata": {
        "colab": {
          "base_uri": "https://localhost:8080/"
        },
        "id": "6hggWRlSILFi",
        "outputId": "b017de6e-ba09-4776-cc2d-4bfe71511878"
      },
      "id": "6hggWRlSILFi",
      "execution_count": null,
      "outputs": [
        {
          "output_type": "stream",
          "name": "stdout",
          "text": [
            "Name: Mountain Bike, Gears: 11 \n"
          ]
        }
      ]
    },
    {
      "cell_type": "code",
      "source": [
        "class Car:\n",
        "  # class variables\n",
        "  company_name = 'ABC Company'\n",
        "\n",
        "  # constructor to initialize the object\n",
        "  def __init__(self,make,model,year,color):\n",
        "     # instance variables\n",
        "    self.make=make\n",
        "    self.model=model\n",
        "    self.year=year\n",
        "    self.color=color\n",
        "\n",
        "  # instance method\n",
        "  def drive(self):\n",
        "    #print(\"This car is driving.\")\n",
        "    print(\"This \" + self.model+\" car is driving.\")\n",
        "\n",
        "  def stop(self):\n",
        "    print(\"This car is stopped\")\n",
        "\n"
      ],
      "metadata": {
        "id": "Q9jqSbeOs-6k"
      },
      "id": "Q9jqSbeOs-6k",
      "execution_count": null,
      "outputs": []
    },
    {
      "cell_type": "code",
      "source": [
        "car_1=Car() # needs arguements"
      ],
      "metadata": {
        "colab": {
          "base_uri": "https://localhost:8080/",
          "height": 175
        },
        "id": "u6fMI-REtaVU",
        "outputId": "ae07b4c4-3e82-42ae-d141-cdce96c1ccf9"
      },
      "id": "u6fMI-REtaVU",
      "execution_count": null,
      "outputs": [
        {
          "output_type": "error",
          "ename": "TypeError",
          "evalue": "Car.__init__() missing 4 required positional arguments: 'make', 'model', 'year', and 'color'",
          "traceback": [
            "\u001b[0;31m---------------------------------------------------------------------------\u001b[0m",
            "\u001b[0;31mTypeError\u001b[0m                                 Traceback (most recent call last)",
            "\u001b[0;32m<ipython-input-62-5d509aa7ab25>\u001b[0m in \u001b[0;36m<cell line: 1>\u001b[0;34m()\u001b[0m\n\u001b[0;32m----> 1\u001b[0;31m \u001b[0mcar_1\u001b[0m\u001b[0;34m=\u001b[0m\u001b[0mCar\u001b[0m\u001b[0;34m(\u001b[0m\u001b[0;34m)\u001b[0m \u001b[0;31m# needs arguements\u001b[0m\u001b[0;34m\u001b[0m\u001b[0;34m\u001b[0m\u001b[0m\n\u001b[0m",
            "\u001b[0;31mTypeError\u001b[0m: Car.__init__() missing 4 required positional arguments: 'make', 'model', 'year', and 'color'"
          ]
        }
      ]
    },
    {
      "cell_type": "code",
      "source": [
        "car_1=Car(\"Chevy\",\"Corvetter\",\"2023\",\"Blue\")"
      ],
      "metadata": {
        "id": "XWxRrJBmtckO"
      },
      "id": "XWxRrJBmtckO",
      "execution_count": null,
      "outputs": []
    },
    {
      "cell_type": "markdown",
      "source": [
        "No need of passing self. with python we do not need to pass self. It will be done automatically.\n",
        "\n",
        "Same with drive() and stop() we do not need to pass the arguement while calling it."
      ],
      "metadata": {
        "id": "2Y-umPzNt6mx"
      },
      "id": "2Y-umPzNt6mx"
    },
    {
      "cell_type": "code",
      "source": [
        "print(car_1.make)\n",
        "print(car_1.model)\n"
      ],
      "metadata": {
        "colab": {
          "base_uri": "https://localhost:8080/"
        },
        "id": "51PIhwoUtiJ3",
        "outputId": "5ac88608-5082-45f2-b401-948982a4f5ed"
      },
      "id": "51PIhwoUtiJ3",
      "execution_count": null,
      "outputs": [
        {
          "output_type": "stream",
          "name": "stdout",
          "text": [
            "Chevy\n",
            "Corvetter\n"
          ]
        }
      ]
    },
    {
      "cell_type": "code",
      "source": [
        "car_1.drive()"
      ],
      "metadata": {
        "colab": {
          "base_uri": "https://localhost:8080/"
        },
        "id": "JlTnau7ctoXg",
        "outputId": "2694f33d-a95c-4b6b-811d-e3a02ada1a2f"
      },
      "id": "JlTnau7ctoXg",
      "execution_count": null,
      "outputs": [
        {
          "output_type": "stream",
          "name": "stdout",
          "text": [
            "This Corvetter car is driving.\n"
          ]
        }
      ]
    },
    {
      "cell_type": "code",
      "source": [
        "car_2=Car(\"Ford\",\"Mustang\",\"2022\",\"Red\")"
      ],
      "metadata": {
        "id": "s_PygR5buPk_"
      },
      "id": "s_PygR5buPk_",
      "execution_count": null,
      "outputs": []
    },
    {
      "cell_type": "code",
      "source": [
        "print(car_2.model)"
      ],
      "metadata": {
        "colab": {
          "base_uri": "https://localhost:8080/"
        },
        "id": "CtZDc4-iuZBW",
        "outputId": "f957fb47-c26c-4ea3-fb6f-590b6275eb55"
      },
      "id": "CtZDc4-iuZBW",
      "execution_count": null,
      "outputs": [
        {
          "output_type": "stream",
          "name": "stdout",
          "text": [
            "Mustang\n"
          ]
        }
      ]
    },
    {
      "cell_type": "code",
      "source": [
        "car_2.stop()"
      ],
      "metadata": {
        "colab": {
          "base_uri": "https://localhost:8080/"
        },
        "id": "U03KhNmGubYV",
        "outputId": "eeb6c788-813f-4b3c-e77f-c67704eb9a5f"
      },
      "id": "U03KhNmGubYV",
      "execution_count": null,
      "outputs": [
        {
          "output_type": "stream",
          "name": "stdout",
          "text": [
            "This car is stopped\n"
          ]
        }
      ]
    },
    {
      "cell_type": "markdown",
      "source": [
        "try writing\n",
        "print(\"This\" + self.model+\" car is driving.\")"
      ],
      "metadata": {
        "id": "AcTDiSM1um1L"
      },
      "id": "AcTDiSM1um1L"
    },
    {
      "cell_type": "markdown",
      "id": "94e19640",
      "metadata": {
        "id": "94e19640"
      },
      "source": [
        "# Functions"
      ]
    },
    {
      "cell_type": "markdown",
      "source": [
        "Python Function Declaration\n",
        "The syntax to declare a function is:\n",
        "\n",
        "**def function_name(arguments):**\n",
        "    # function body\n",
        "\n",
        "    return\n",
        "Here,\n",
        "\n",
        "def - keyword used to declare a function,\n",
        "\n",
        "function_name - any name given to the function,\n",
        "\n",
        "arguments - any value passed to function,\n",
        "\n",
        "return (optional) - returns value from a function"
      ],
      "metadata": {
        "id": "RGrufxn8Iocp"
      },
      "id": "RGrufxn8Iocp"
    },
    {
      "cell_type": "code",
      "source": [
        "def greet():\n",
        "    print('Hello Class of Spring 2024!')"
      ],
      "metadata": {
        "id": "wK8jo4vPIyCQ"
      },
      "id": "wK8jo4vPIyCQ",
      "execution_count": null,
      "outputs": []
    },
    {
      "cell_type": "code",
      "source": [
        "greet()"
      ],
      "metadata": {
        "colab": {
          "base_uri": "https://localhost:8080/"
        },
        "id": "WNUNCKrqI0TL",
        "outputId": "a39afded-5b4e-4171-ab3e-5d95fd904829"
      },
      "id": "WNUNCKrqI0TL",
      "execution_count": null,
      "outputs": [
        {
          "output_type": "stream",
          "name": "stdout",
          "text": [
            "Hello Class of Spring 2024!\n"
          ]
        }
      ]
    },
    {
      "cell_type": "markdown",
      "source": [
        "**Python Function Arguments**"
      ],
      "metadata": {
        "id": "eOH-TtyhI_3O"
      },
      "id": "eOH-TtyhI_3O"
    },
    {
      "cell_type": "markdown",
      "source": [
        "without return type"
      ],
      "metadata": {
        "id": "4iP79-rfJHjc"
      },
      "id": "4iP79-rfJHjc"
    },
    {
      "cell_type": "code",
      "source": [
        "# function with two arguments\n",
        "def add_numbers(num1, num2):\n",
        "    sum = num1 + num2\n",
        "    print(\"Sum: \",sum)\n",
        "\n",
        "\n",
        "# function call with two values\n",
        "add_numbers(5, 4)\n",
        "\n",
        "# Output: Sum: 9"
      ],
      "metadata": {
        "colab": {
          "base_uri": "https://localhost:8080/"
        },
        "id": "5jlp-gAUJC4t",
        "outputId": "268daea8-0d5f-4a39-f416-b4909415e06a"
      },
      "id": "5jlp-gAUJC4t",
      "execution_count": null,
      "outputs": [
        {
          "output_type": "stream",
          "name": "stdout",
          "text": [
            "Sum:  9\n"
          ]
        }
      ]
    },
    {
      "cell_type": "code",
      "source": [
        "# function definition\n",
        "def find_square(num):\n",
        "    result = num * num\n",
        "    return result\n",
        "\n",
        "# function call\n",
        "square = find_square(3)\n",
        "\n",
        "print('Square:',square)\n",
        "\n",
        "# Output: Square: 9"
      ],
      "metadata": {
        "colab": {
          "base_uri": "https://localhost:8080/"
        },
        "id": "7y5UQe3YJLFk",
        "outputId": "bad656eb-d3b3-4296-c62b-8d82a9c1b9c3"
      },
      "id": "7y5UQe3YJLFk",
      "execution_count": null,
      "outputs": [
        {
          "output_type": "stream",
          "name": "stdout",
          "text": [
            "Square: 9\n"
          ]
        }
      ]
    },
    {
      "cell_type": "markdown",
      "source": [
        "Function return Type"
      ],
      "metadata": {
        "id": "wT2zJ5leJNE_"
      },
      "id": "wT2zJ5leJNE_"
    },
    {
      "cell_type": "code",
      "execution_count": null,
      "id": "9cadd5a9",
      "metadata": {
        "colab": {
          "base_uri": "https://localhost:8080/"
        },
        "id": "9cadd5a9",
        "outputId": "525e2287-59f4-49ab-9fbf-b2fd911a0d93"
      },
      "outputs": [
        {
          "output_type": "execute_result",
          "data": {
            "text/plain": [
              "6"
            ]
          },
          "metadata": {},
          "execution_count": 79
        }
      ],
      "source": [
        "def list_sum_recursive(input_list):\n",
        "    # Base case\n",
        "    if input_list == []:\n",
        "        return 0\n",
        "\n",
        "    # Recursive case\n",
        "    # Decompose the original problem into simpler instances of the same problem\n",
        "    # by making use of the fact that the input is a recursive data structure\n",
        "    # and can be deﬁned in terms of a smaller version of itself\n",
        "    else:\n",
        "        head = input_list[0]\n",
        "        smaller_list = input_list[1:]\n",
        "        return head + list_sum_recursive(smaller_list)\n",
        "\n",
        "list_sum_recursive([1, 2, 3])"
      ]
    },
    {
      "cell_type": "markdown",
      "source": [
        "**Python In-built functions**"
      ],
      "metadata": {
        "id": "1M1-GFVuJRwX"
      },
      "id": "1M1-GFVuJRwX"
    },
    {
      "cell_type": "code",
      "source": [
        "import math\n",
        "\n",
        "# sqrt computes the square root\n",
        "square_root = math.sqrt(4)\n",
        "\n",
        "print(\"Square Root of 4 is\",square_root)\n",
        "\n",
        "# pow() comptes the power\n",
        "power = pow(2, 3)\n",
        "\n",
        "print(\"2 to the power 3 is\",power)"
      ],
      "metadata": {
        "colab": {
          "base_uri": "https://localhost:8080/"
        },
        "id": "7EtAVgZ7JQus",
        "outputId": "8192ccd6-c2ed-4afe-ea49-5dfd3a243c2b"
      },
      "id": "7EtAVgZ7JQus",
      "execution_count": null,
      "outputs": [
        {
          "output_type": "stream",
          "name": "stdout",
          "text": [
            "Square Root of 4 is 2.0\n",
            "2 to the power 3 is 8\n"
          ]
        }
      ]
    },
    {
      "cell_type": "markdown",
      "source": [
        "**Code Reusability**"
      ],
      "metadata": {
        "id": "wPJNq-iJJWRf"
      },
      "id": "wPJNq-iJJWRf"
    },
    {
      "cell_type": "code",
      "source": [
        "# function definition\n",
        "def get_square(num):\n",
        "    return num * num\n",
        "\n",
        "for i in range(1,5):\n",
        "    # function call\n",
        "    result = get_square(i)\n",
        "    print('Square of',i, '=',result)"
      ],
      "metadata": {
        "colab": {
          "base_uri": "https://localhost:8080/"
        },
        "id": "-kc10Gg8JV3q",
        "outputId": "3019179f-4f7e-4708-f612-ed739befea21"
      },
      "id": "-kc10Gg8JV3q",
      "execution_count": null,
      "outputs": [
        {
          "output_type": "stream",
          "name": "stdout",
          "text": [
            "Square of 1 = 1\n",
            "Square of 2 = 4\n",
            "Square of 3 = 9\n",
            "Square of 4 = 16\n"
          ]
        }
      ]
    },
    {
      "cell_type": "markdown",
      "source": [
        "# map function"
      ],
      "metadata": {
        "id": "GMMyK26bQAJF"
      },
      "id": "GMMyK26bQAJF"
    },
    {
      "cell_type": "markdown",
      "source": [
        "The map() function applies a given function to each element of an iterable (list, tuple etc.) and returns an iterator containing the results."
      ],
      "metadata": {
        "id": "oD-peszWJmjf"
      },
      "id": "oD-peszWJmjf"
    },
    {
      "cell_type": "markdown",
      "source": [
        "map() Arguments\n",
        "The map() function takes two arguments:\n",
        "\n",
        "function - a function;\n",
        "\n",
        "iterable - an iterable like sets, lists, tuples, etc\n",
        "You can pass more than one iterable to the map() function."
      ],
      "metadata": {
        "id": "hgV-m1F3J0D_"
      },
      "id": "hgV-m1F3J0D_"
    },
    {
      "cell_type": "markdown",
      "source": [
        "map() Return Value\n",
        "The map() function returns an object of map class. The returned value can be passed to functions like\n",
        "\n",
        "list() - to convert to list\n",
        "set() - to convert to a set, and so on."
      ],
      "metadata": {
        "id": "mr0cIzuLJ75U"
      },
      "id": "mr0cIzuLJ75U"
    },
    {
      "cell_type": "code",
      "source": [
        "# Python program to demonstrate working\n",
        "# of map.\n",
        "\n",
        "# Return double of n\n",
        "def addition(n):\n",
        "\treturn n + n\n",
        "\n",
        "# We double all numbers using map()\n",
        "numbers = (1, 2, 3, 4)\n",
        "result = map(addition, numbers)\n",
        "print(list(result))"
      ],
      "metadata": {
        "colab": {
          "base_uri": "https://localhost:8080/"
        },
        "id": "4r62KYTyQAV4",
        "outputId": "60eff43d-bc5b-41e3-bf3f-e6abb3363cfb"
      },
      "id": "4r62KYTyQAV4",
      "execution_count": null,
      "outputs": [
        {
          "output_type": "stream",
          "name": "stdout",
          "text": [
            "[2, 4, 6, 8]\n"
          ]
        }
      ]
    },
    {
      "cell_type": "markdown",
      "source": [
        "How to use lambda function with map()?\n"
      ],
      "metadata": {
        "id": "bOBx3P5mKAK0"
      },
      "id": "bOBx3P5mKAK0"
    },
    {
      "cell_type": "code",
      "source": [
        "# Double all numbers using map and lambda\n",
        "\n",
        "numbers = (1, 2, 3, 4)\n",
        "result = map(lambda x: x * x, numbers)\n",
        "print(list(result))\n"
      ],
      "metadata": {
        "colab": {
          "base_uri": "https://localhost:8080/"
        },
        "id": "8h8HadwqQgVV",
        "outputId": "29a94daa-dab4-422c-ddfd-6c6d89777241"
      },
      "id": "8h8HadwqQgVV",
      "execution_count": null,
      "outputs": [
        {
          "output_type": "stream",
          "name": "stdout",
          "text": [
            "[1, 4, 9, 16]\n"
          ]
        }
      ]
    },
    {
      "cell_type": "code",
      "source": [
        "num1 = [4, 5, 6]\n",
        "num2 = [5, 6, 7]\n",
        "\n",
        "result = map(lambda n1, n2: n1+n2, num1, num2)\n",
        "print(list(result))"
      ],
      "metadata": {
        "colab": {
          "base_uri": "https://localhost:8080/"
        },
        "id": "2bjV8B_zKKLV",
        "outputId": "49d99c7c-8b97-40a6-efc2-c372d844b472"
      },
      "id": "2bjV8B_zKKLV",
      "execution_count": null,
      "outputs": [
        {
          "output_type": "stream",
          "name": "stdout",
          "text": [
            "[9, 11, 13]\n"
          ]
        }
      ]
    },
    {
      "cell_type": "markdown",
      "source": [
        "# filter function\n",
        "\n",
        "The filter() method filters the given sequence with the help of a function that tests each element in the sequence to be true or not.\n",
        "The filter() function selects elements from an iterable (list, tuple etc.) based on the output of a function.\n",
        "\n",
        "The function is applied to each element of the iterable and if it returns True, the element is selected by the filter() function."
      ],
      "metadata": {
        "id": "APMqqvOlQpEq"
      },
      "id": "APMqqvOlQpEq"
    },
    {
      "cell_type": "markdown",
      "source": [
        "filter() Arguments\n",
        "The filter() function takes two arguments:\n",
        "\n",
        "function - a function\n",
        "iterable - an iterable like sets, lists, tuples etc.\n",
        "filter() Return Value\n",
        "The filter() function returns an iterator."
      ],
      "metadata": {
        "id": "rkTiWlr4Kr_w"
      },
      "id": "rkTiWlr4Kr_w"
    },
    {
      "cell_type": "code",
      "source": [
        "# function that filters vowels\n",
        "def fun(variable):\n",
        "\tletters = ['a', 'e', 'i', 'o', 'u']\n",
        "\tif (variable in letters):\n",
        "\t\treturn True\n",
        "\telse:\n",
        "\t\treturn False\n",
        "\n",
        "\n",
        "# sequence\n",
        "sequence = ['s', 'u', 'p', 'e', 'r', 's', 'e', 't']\n",
        "\n",
        "# using filter function\n",
        "filtered = filter(fun, sequence)\n",
        "\n",
        "print('The filtered letters are:')\n",
        "for s in filtered:\n",
        "\tprint(s)\n"
      ],
      "metadata": {
        "colab": {
          "base_uri": "https://localhost:8080/"
        },
        "id": "YkH0zcxaQpQP",
        "outputId": "3d8fcd33-f939-43dd-adb6-4a1074da9d76"
      },
      "id": "YkH0zcxaQpQP",
      "execution_count": null,
      "outputs": [
        {
          "output_type": "stream",
          "name": "stdout",
          "text": [
            "The filtered letters are:\n",
            "u\n",
            "e\n",
            "e\n"
          ]
        }
      ]
    },
    {
      "cell_type": "code",
      "source": [
        "# a list contains both even and odd numbers.\n",
        "seq = [0, 1, 2, 3, 5, 8, 13]\n",
        "\n",
        "# result contains odd numbers of the list\n",
        "result = filter(lambda x: x % 2 != 0, seq)\n",
        "print(\"Odd numbers: \", list(result))\n",
        "\n",
        "# result contains even numbers of the list\n",
        "result = filter(lambda x: x % 2 == 0, seq)\n",
        "print(\"Even numbers: \", list(result))\n"
      ],
      "metadata": {
        "colab": {
          "base_uri": "https://localhost:8080/"
        },
        "id": "tE7HoowWQpR8",
        "outputId": "b7757213-a45b-4aeb-d528-be9ce6b80341"
      },
      "id": "tE7HoowWQpR8",
      "execution_count": null,
      "outputs": [
        {
          "output_type": "stream",
          "name": "stdout",
          "text": [
            "Odd numbers:  [1, 3, 5, 13]\n",
            "Even numbers:  [0, 2, 8]\n"
          ]
        }
      ]
    },
    {
      "cell_type": "markdown",
      "id": "69ad367a",
      "metadata": {
        "id": "69ad367a"
      },
      "source": [
        "# Files in Python"
      ]
    },
    {
      "cell_type": "code",
      "execution_count": null,
      "id": "ca7a0aba",
      "metadata": {
        "colab": {
          "base_uri": "https://localhost:8080/"
        },
        "id": "ca7a0aba",
        "outputId": "19443d43-c9a8-4b75-848d-21b82d057bc5"
      },
      "outputs": [
        {
          "output_type": "execute_result",
          "data": {
            "text/plain": [
              "24"
            ]
          },
          "metadata": {},
          "execution_count": 84
        }
      ],
      "source": [
        "fout = open('output.txt', 'w')\n",
        "#print(fout)\n",
        "\n",
        "# The write() method puts data into the file.\n",
        "# f.write(string) writes the contents of string to the file, returning the number of characters written.\n",
        "\n",
        "line1 = \"This here's the wattle,\\n\"\n",
        "fout.write(line1)\n",
        "\n"
      ]
    },
    {
      "cell_type": "code",
      "execution_count": null,
      "id": "ce266581",
      "metadata": {
        "colab": {
          "base_uri": "https://localhost:8080/"
        },
        "id": "ce266581",
        "outputId": "57216022-8362-4f5a-e27c-7a2afa1c9d78"
      },
      "outputs": [
        {
          "output_type": "execute_result",
          "data": {
            "text/plain": [
              "25"
            ]
          },
          "metadata": {},
          "execution_count": 85
        }
      ],
      "source": [
        "# Again, the file object keeps track of where it is, so if you call write again, it adds the new data to the end.\n",
        "\n",
        "line2 = \"the emblem of our lands.\\n\"\n",
        "fout.write(line2)"
      ]
    },
    {
      "cell_type": "code",
      "execution_count": null,
      "id": "d285e1aa",
      "metadata": {
        "id": "d285e1aa"
      },
      "outputs": [],
      "source": [
        "# When you are done writing, you have to close the file.\n",
        "fout.close()"
      ]
    },
    {
      "cell_type": "code",
      "execution_count": null,
      "id": "85937d5f",
      "metadata": {
        "colab": {
          "base_uri": "https://localhost:8080/"
        },
        "id": "85937d5f",
        "outputId": "d8904d1c-ee1a-4932-aeb7-20a57724db4f"
      },
      "outputs": [
        {
          "output_type": "stream",
          "name": "stdout",
          "text": [
            "This here's the wattle,\n",
            "the emblem of our lands.\n",
            "\n"
          ]
        }
      ],
      "source": [
        "f = open(\"output.txt\",'r',encoding = 'utf-8')\n",
        "\n",
        "# read the entire file\n",
        "\n",
        "print(f.read())"
      ]
    },
    {
      "cell_type": "code",
      "execution_count": null,
      "id": "b7dde79f",
      "metadata": {
        "colab": {
          "base_uri": "https://localhost:8080/"
        },
        "id": "b7dde79f",
        "outputId": "d5584c76-569b-4422-bade-666bbe88b9b5"
      },
      "outputs": [
        {
          "output_type": "stream",
          "name": "stdout",
          "text": [
            "This here's the wattle,\n",
            "the emblem of our lands.\n"
          ]
        }
      ],
      "source": [
        "# We can read a file line-by-line using a for loop. This is both efficient and fast.\n",
        "\n",
        "f2 = open(\"output.txt\",'r',encoding = 'utf-8')\n",
        "\n",
        "for line in f2:\n",
        "    print(line, end = '')"
      ]
    },
    {
      "cell_type": "code",
      "execution_count": null,
      "id": "af5df136",
      "metadata": {
        "colab": {
          "base_uri": "https://localhost:8080/"
        },
        "id": "af5df136",
        "outputId": "0bec5382-6a19-471c-c6eb-c9c54a87feb3"
      },
      "outputs": [
        {
          "output_type": "stream",
          "name": "stdout",
          "text": [
            "[\"This here's the wattle,\\n\", 'the emblem of our lands.\\n']\n"
          ]
        }
      ],
      "source": [
        "# The readlines() method returns a list of remaining lines of the entire file\n",
        "\n",
        "f3 = open(\"output.txt\",'r',encoding = 'utf-8')\n",
        "print(f3.readlines())"
      ]
    },
    {
      "cell_type": "markdown",
      "source": [
        "# DataFrames"
      ],
      "metadata": {
        "id": "vcem-jtoP0S7"
      },
      "id": "vcem-jtoP0S7"
    },
    {
      "cell_type": "markdown",
      "source": [
        "A DataFrame is like a table where the data is organized in rows and columns. It is a two-dimensional data structure like a two-dimensional array.\n",
        "\n",
        "Create a Pandas DataFrame\n",
        "We can create a Pandas DataFrame in the following ways:\n",
        "\n",
        "Using Python Dictionary;\n",
        "Using Python List;\n",
        "From a File;\n",
        "Creating an Empty DataFrame."
      ],
      "metadata": {
        "id": "VsocEo_DLX7y"
      },
      "id": "VsocEo_DLX7y"
    },
    {
      "cell_type": "code",
      "execution_count": null,
      "id": "d88eb7a1",
      "metadata": {
        "id": "d88eb7a1",
        "colab": {
          "base_uri": "https://localhost:8080/",
          "height": 143
        },
        "outputId": "a75eff74-ca09-438f-b092-29ca22926fb9"
      },
      "outputs": [
        {
          "output_type": "execute_result",
          "data": {
            "text/plain": [
              "   calories  duration\n",
              "0       420        50\n",
              "1       380        40\n",
              "2       390        45"
            ],
            "text/html": [
              "\n",
              "  <div id=\"df-6d5bb388-c903-440e-a499-2e114f66fb8c\" class=\"colab-df-container\">\n",
              "    <div>\n",
              "<style scoped>\n",
              "    .dataframe tbody tr th:only-of-type {\n",
              "        vertical-align: middle;\n",
              "    }\n",
              "\n",
              "    .dataframe tbody tr th {\n",
              "        vertical-align: top;\n",
              "    }\n",
              "\n",
              "    .dataframe thead th {\n",
              "        text-align: right;\n",
              "    }\n",
              "</style>\n",
              "<table border=\"1\" class=\"dataframe\">\n",
              "  <thead>\n",
              "    <tr style=\"text-align: right;\">\n",
              "      <th></th>\n",
              "      <th>calories</th>\n",
              "      <th>duration</th>\n",
              "    </tr>\n",
              "  </thead>\n",
              "  <tbody>\n",
              "    <tr>\n",
              "      <th>0</th>\n",
              "      <td>420</td>\n",
              "      <td>50</td>\n",
              "    </tr>\n",
              "    <tr>\n",
              "      <th>1</th>\n",
              "      <td>380</td>\n",
              "      <td>40</td>\n",
              "    </tr>\n",
              "    <tr>\n",
              "      <th>2</th>\n",
              "      <td>390</td>\n",
              "      <td>45</td>\n",
              "    </tr>\n",
              "  </tbody>\n",
              "</table>\n",
              "</div>\n",
              "    <div class=\"colab-df-buttons\">\n",
              "\n",
              "  <div class=\"colab-df-container\">\n",
              "    <button class=\"colab-df-convert\" onclick=\"convertToInteractive('df-6d5bb388-c903-440e-a499-2e114f66fb8c')\"\n",
              "            title=\"Convert this dataframe to an interactive table.\"\n",
              "            style=\"display:none;\">\n",
              "\n",
              "  <svg xmlns=\"http://www.w3.org/2000/svg\" height=\"24px\" viewBox=\"0 -960 960 960\">\n",
              "    <path d=\"M120-120v-720h720v720H120Zm60-500h600v-160H180v160Zm220 220h160v-160H400v160Zm0 220h160v-160H400v160ZM180-400h160v-160H180v160Zm440 0h160v-160H620v160ZM180-180h160v-160H180v160Zm440 0h160v-160H620v160Z\"/>\n",
              "  </svg>\n",
              "    </button>\n",
              "\n",
              "  <style>\n",
              "    .colab-df-container {\n",
              "      display:flex;\n",
              "      gap: 12px;\n",
              "    }\n",
              "\n",
              "    .colab-df-convert {\n",
              "      background-color: #E8F0FE;\n",
              "      border: none;\n",
              "      border-radius: 50%;\n",
              "      cursor: pointer;\n",
              "      display: none;\n",
              "      fill: #1967D2;\n",
              "      height: 32px;\n",
              "      padding: 0 0 0 0;\n",
              "      width: 32px;\n",
              "    }\n",
              "\n",
              "    .colab-df-convert:hover {\n",
              "      background-color: #E2EBFA;\n",
              "      box-shadow: 0px 1px 2px rgba(60, 64, 67, 0.3), 0px 1px 3px 1px rgba(60, 64, 67, 0.15);\n",
              "      fill: #174EA6;\n",
              "    }\n",
              "\n",
              "    .colab-df-buttons div {\n",
              "      margin-bottom: 4px;\n",
              "    }\n",
              "\n",
              "    [theme=dark] .colab-df-convert {\n",
              "      background-color: #3B4455;\n",
              "      fill: #D2E3FC;\n",
              "    }\n",
              "\n",
              "    [theme=dark] .colab-df-convert:hover {\n",
              "      background-color: #434B5C;\n",
              "      box-shadow: 0px 1px 3px 1px rgba(0, 0, 0, 0.15);\n",
              "      filter: drop-shadow(0px 1px 2px rgba(0, 0, 0, 0.3));\n",
              "      fill: #FFFFFF;\n",
              "    }\n",
              "  </style>\n",
              "\n",
              "    <script>\n",
              "      const buttonEl =\n",
              "        document.querySelector('#df-6d5bb388-c903-440e-a499-2e114f66fb8c button.colab-df-convert');\n",
              "      buttonEl.style.display =\n",
              "        google.colab.kernel.accessAllowed ? 'block' : 'none';\n",
              "\n",
              "      async function convertToInteractive(key) {\n",
              "        const element = document.querySelector('#df-6d5bb388-c903-440e-a499-2e114f66fb8c');\n",
              "        const dataTable =\n",
              "          await google.colab.kernel.invokeFunction('convertToInteractive',\n",
              "                                                    [key], {});\n",
              "        if (!dataTable) return;\n",
              "\n",
              "        const docLinkHtml = 'Like what you see? Visit the ' +\n",
              "          '<a target=\"_blank\" href=https://colab.research.google.com/notebooks/data_table.ipynb>data table notebook</a>'\n",
              "          + ' to learn more about interactive tables.';\n",
              "        element.innerHTML = '';\n",
              "        dataTable['output_type'] = 'display_data';\n",
              "        await google.colab.output.renderOutput(dataTable, element);\n",
              "        const docLink = document.createElement('div');\n",
              "        docLink.innerHTML = docLinkHtml;\n",
              "        element.appendChild(docLink);\n",
              "      }\n",
              "    </script>\n",
              "  </div>\n",
              "\n",
              "\n",
              "<div id=\"df-0972d031-b052-447f-8f1d-345bc22a1bbd\">\n",
              "  <button class=\"colab-df-quickchart\" onclick=\"quickchart('df-0972d031-b052-447f-8f1d-345bc22a1bbd')\"\n",
              "            title=\"Suggest charts\"\n",
              "            style=\"display:none;\">\n",
              "\n",
              "<svg xmlns=\"http://www.w3.org/2000/svg\" height=\"24px\"viewBox=\"0 0 24 24\"\n",
              "     width=\"24px\">\n",
              "    <g>\n",
              "        <path d=\"M19 3H5c-1.1 0-2 .9-2 2v14c0 1.1.9 2 2 2h14c1.1 0 2-.9 2-2V5c0-1.1-.9-2-2-2zM9 17H7v-7h2v7zm4 0h-2V7h2v10zm4 0h-2v-4h2v4z\"/>\n",
              "    </g>\n",
              "</svg>\n",
              "  </button>\n",
              "\n",
              "<style>\n",
              "  .colab-df-quickchart {\n",
              "      --bg-color: #E8F0FE;\n",
              "      --fill-color: #1967D2;\n",
              "      --hover-bg-color: #E2EBFA;\n",
              "      --hover-fill-color: #174EA6;\n",
              "      --disabled-fill-color: #AAA;\n",
              "      --disabled-bg-color: #DDD;\n",
              "  }\n",
              "\n",
              "  [theme=dark] .colab-df-quickchart {\n",
              "      --bg-color: #3B4455;\n",
              "      --fill-color: #D2E3FC;\n",
              "      --hover-bg-color: #434B5C;\n",
              "      --hover-fill-color: #FFFFFF;\n",
              "      --disabled-bg-color: #3B4455;\n",
              "      --disabled-fill-color: #666;\n",
              "  }\n",
              "\n",
              "  .colab-df-quickchart {\n",
              "    background-color: var(--bg-color);\n",
              "    border: none;\n",
              "    border-radius: 50%;\n",
              "    cursor: pointer;\n",
              "    display: none;\n",
              "    fill: var(--fill-color);\n",
              "    height: 32px;\n",
              "    padding: 0;\n",
              "    width: 32px;\n",
              "  }\n",
              "\n",
              "  .colab-df-quickchart:hover {\n",
              "    background-color: var(--hover-bg-color);\n",
              "    box-shadow: 0 1px 2px rgba(60, 64, 67, 0.3), 0 1px 3px 1px rgba(60, 64, 67, 0.15);\n",
              "    fill: var(--button-hover-fill-color);\n",
              "  }\n",
              "\n",
              "  .colab-df-quickchart-complete:disabled,\n",
              "  .colab-df-quickchart-complete:disabled:hover {\n",
              "    background-color: var(--disabled-bg-color);\n",
              "    fill: var(--disabled-fill-color);\n",
              "    box-shadow: none;\n",
              "  }\n",
              "\n",
              "  .colab-df-spinner {\n",
              "    border: 2px solid var(--fill-color);\n",
              "    border-color: transparent;\n",
              "    border-bottom-color: var(--fill-color);\n",
              "    animation:\n",
              "      spin 1s steps(1) infinite;\n",
              "  }\n",
              "\n",
              "  @keyframes spin {\n",
              "    0% {\n",
              "      border-color: transparent;\n",
              "      border-bottom-color: var(--fill-color);\n",
              "      border-left-color: var(--fill-color);\n",
              "    }\n",
              "    20% {\n",
              "      border-color: transparent;\n",
              "      border-left-color: var(--fill-color);\n",
              "      border-top-color: var(--fill-color);\n",
              "    }\n",
              "    30% {\n",
              "      border-color: transparent;\n",
              "      border-left-color: var(--fill-color);\n",
              "      border-top-color: var(--fill-color);\n",
              "      border-right-color: var(--fill-color);\n",
              "    }\n",
              "    40% {\n",
              "      border-color: transparent;\n",
              "      border-right-color: var(--fill-color);\n",
              "      border-top-color: var(--fill-color);\n",
              "    }\n",
              "    60% {\n",
              "      border-color: transparent;\n",
              "      border-right-color: var(--fill-color);\n",
              "    }\n",
              "    80% {\n",
              "      border-color: transparent;\n",
              "      border-right-color: var(--fill-color);\n",
              "      border-bottom-color: var(--fill-color);\n",
              "    }\n",
              "    90% {\n",
              "      border-color: transparent;\n",
              "      border-bottom-color: var(--fill-color);\n",
              "    }\n",
              "  }\n",
              "</style>\n",
              "\n",
              "  <script>\n",
              "    async function quickchart(key) {\n",
              "      const quickchartButtonEl =\n",
              "        document.querySelector('#' + key + ' button');\n",
              "      quickchartButtonEl.disabled = true;  // To prevent multiple clicks.\n",
              "      quickchartButtonEl.classList.add('colab-df-spinner');\n",
              "      try {\n",
              "        const charts = await google.colab.kernel.invokeFunction(\n",
              "            'suggestCharts', [key], {});\n",
              "      } catch (error) {\n",
              "        console.error('Error during call to suggestCharts:', error);\n",
              "      }\n",
              "      quickchartButtonEl.classList.remove('colab-df-spinner');\n",
              "      quickchartButtonEl.classList.add('colab-df-quickchart-complete');\n",
              "    }\n",
              "    (() => {\n",
              "      let quickchartButtonEl =\n",
              "        document.querySelector('#df-0972d031-b052-447f-8f1d-345bc22a1bbd button');\n",
              "      quickchartButtonEl.style.display =\n",
              "        google.colab.kernel.accessAllowed ? 'block' : 'none';\n",
              "    })();\n",
              "  </script>\n",
              "</div>\n",
              "\n",
              "  <div id=\"id_bdd75cda-9b48-4239-a481-7ab97c03203d\">\n",
              "    <style>\n",
              "      .colab-df-generate {\n",
              "        background-color: #E8F0FE;\n",
              "        border: none;\n",
              "        border-radius: 50%;\n",
              "        cursor: pointer;\n",
              "        display: none;\n",
              "        fill: #1967D2;\n",
              "        height: 32px;\n",
              "        padding: 0 0 0 0;\n",
              "        width: 32px;\n",
              "      }\n",
              "\n",
              "      .colab-df-generate:hover {\n",
              "        background-color: #E2EBFA;\n",
              "        box-shadow: 0px 1px 2px rgba(60, 64, 67, 0.3), 0px 1px 3px 1px rgba(60, 64, 67, 0.15);\n",
              "        fill: #174EA6;\n",
              "      }\n",
              "\n",
              "      [theme=dark] .colab-df-generate {\n",
              "        background-color: #3B4455;\n",
              "        fill: #D2E3FC;\n",
              "      }\n",
              "\n",
              "      [theme=dark] .colab-df-generate:hover {\n",
              "        background-color: #434B5C;\n",
              "        box-shadow: 0px 1px 3px 1px rgba(0, 0, 0, 0.15);\n",
              "        filter: drop-shadow(0px 1px 2px rgba(0, 0, 0, 0.3));\n",
              "        fill: #FFFFFF;\n",
              "      }\n",
              "    </style>\n",
              "    <button class=\"colab-df-generate\" onclick=\"generateWithVariable('df')\"\n",
              "            title=\"Generate code using this dataframe.\"\n",
              "            style=\"display:none;\">\n",
              "\n",
              "  <svg xmlns=\"http://www.w3.org/2000/svg\" height=\"24px\"viewBox=\"0 0 24 24\"\n",
              "       width=\"24px\">\n",
              "    <path d=\"M7,19H8.4L18.45,9,17,7.55,7,17.6ZM5,21V16.75L18.45,3.32a2,2,0,0,1,2.83,0l1.4,1.43a1.91,1.91,0,0,1,.58,1.4,1.91,1.91,0,0,1-.58,1.4L9.25,21ZM18.45,9,17,7.55Zm-12,3A5.31,5.31,0,0,0,4.9,8.1,5.31,5.31,0,0,0,1,6.5,5.31,5.31,0,0,0,4.9,4.9,5.31,5.31,0,0,0,6.5,1,5.31,5.31,0,0,0,8.1,4.9,5.31,5.31,0,0,0,12,6.5,5.46,5.46,0,0,0,6.5,12Z\"/>\n",
              "  </svg>\n",
              "    </button>\n",
              "    <script>\n",
              "      (() => {\n",
              "      const buttonEl =\n",
              "        document.querySelector('#id_bdd75cda-9b48-4239-a481-7ab97c03203d button.colab-df-generate');\n",
              "      buttonEl.style.display =\n",
              "        google.colab.kernel.accessAllowed ? 'block' : 'none';\n",
              "\n",
              "      buttonEl.onclick = () => {\n",
              "        google.colab.notebook.generateWithVariable('df');\n",
              "      }\n",
              "      })();\n",
              "    </script>\n",
              "  </div>\n",
              "\n",
              "    </div>\n",
              "  </div>\n"
            ]
          },
          "metadata": {},
          "execution_count": 89
        }
      ],
      "source": [
        "import pandas as pd\n",
        "\n",
        "data = {\n",
        "  \"calories\": [420, 380, 390],\n",
        "  \"duration\": [50, 40, 45]\n",
        "}\n",
        "\n",
        "#load data into a DataFrame object:\n",
        "df = pd.DataFrame(data)\n",
        "\n",
        "df"
      ]
    },
    {
      "cell_type": "markdown",
      "source": [
        "**Pandas DataFrame Using Python Dictionary**"
      ],
      "metadata": {
        "id": "E5XMpaR4Lk3g"
      },
      "id": "E5XMpaR4Lk3g"
    },
    {
      "cell_type": "code",
      "source": [
        "import pandas as pd\n",
        "\n",
        "# create a dictionary\n",
        "data = {'Name': ['John', 'Alice', 'Bob'],\n",
        "       'Age': [25, 30, 35],\n",
        "       'City': ['New York', 'London', 'Paris']}\n",
        "\n",
        "# create a dataframe from the dictionary\n",
        "df = pd.DataFrame(data)\n",
        "\n",
        "print(df)"
      ],
      "metadata": {
        "colab": {
          "base_uri": "https://localhost:8080/"
        },
        "id": "n3jHi9oYLi7_",
        "outputId": "d15cd551-75d6-4dbb-e68b-f07d24a6c80c"
      },
      "id": "n3jHi9oYLi7_",
      "execution_count": null,
      "outputs": [
        {
          "output_type": "stream",
          "name": "stdout",
          "text": [
            "    Name  Age      City\n",
            "0   John   25  New York\n",
            "1  Alice   30    London\n",
            "2    Bob   35     Paris\n"
          ]
        }
      ]
    },
    {
      "cell_type": "markdown",
      "source": [
        "**Pandas DataFrame Using Python List**"
      ],
      "metadata": {
        "id": "gijWM6lFLqYZ"
      },
      "id": "gijWM6lFLqYZ"
    },
    {
      "cell_type": "code",
      "source": [
        "import pandas as pd\n",
        "\n",
        "# create a two-dimensional list\n",
        "data = [['John', 25, 'New York'],\n",
        "       ['Alice', 30, 'London'],\n",
        "       ['Bob', 35, 'Paris']]\n",
        "\n",
        "# create a DataFrame from the list\n",
        "df = pd.DataFrame(data, columns=['Name', 'Age', 'City'])\n",
        "\n",
        "print(df)"
      ],
      "metadata": {
        "colab": {
          "base_uri": "https://localhost:8080/"
        },
        "id": "TOhJ1RpeLogq",
        "outputId": "58964dc1-9ee2-4331-f8ee-e6ad5b7dce91"
      },
      "id": "TOhJ1RpeLogq",
      "execution_count": null,
      "outputs": [
        {
          "output_type": "stream",
          "name": "stdout",
          "text": [
            "    Name  Age      City\n",
            "0   John   25  New York\n",
            "1  Alice   30    London\n",
            "2    Bob   35     Paris\n"
          ]
        }
      ]
    },
    {
      "cell_type": "markdown",
      "source": [
        "**Create an Empty DataFrame**"
      ],
      "metadata": {
        "id": "sAwWUAz8MAaL"
      },
      "id": "sAwWUAz8MAaL"
    },
    {
      "cell_type": "code",
      "source": [
        "import pandas as pd\n",
        "\n",
        "# create an empty DataFrame\n",
        "df = pd.DataFrame()\n",
        "\n",
        "print(df)"
      ],
      "metadata": {
        "colab": {
          "base_uri": "https://localhost:8080/"
        },
        "id": "NwCGDrYTL-gt",
        "outputId": "a310a395-6d13-4dd5-a302-465ac53497c7"
      },
      "id": "NwCGDrYTL-gt",
      "execution_count": null,
      "outputs": [
        {
          "output_type": "stream",
          "name": "stdout",
          "text": [
            "Empty DataFrame\n",
            "Columns: []\n",
            "Index: []\n"
          ]
        }
      ]
    },
    {
      "cell_type": "markdown",
      "source": [
        "**Pandas DataFrame From a File**"
      ],
      "metadata": {
        "id": "J9V7I2SBMDOa"
      },
      "id": "J9V7I2SBMDOa"
    },
    {
      "cell_type": "code",
      "source": [
        "import pandas as pd\n",
        "\n",
        "# load data from a CSV file\n",
        "df = pd.read_excel('/content/Walmart_Store_sales.xlsx')\n",
        "\n",
        "df.head()"
      ],
      "metadata": {
        "colab": {
          "base_uri": "https://localhost:8080/",
          "height": 206
        },
        "id": "n4YhkzlKLu-x",
        "outputId": "faaccbe1-96a6-4e27-86c8-ea6ede27de5d"
      },
      "id": "n4YhkzlKLu-x",
      "execution_count": null,
      "outputs": [
        {
          "output_type": "execute_result",
          "data": {
            "text/plain": [
              "   Store  Week  Week_of_yr                 Date  Weekly_Sales  Holiday_Flag  \\\n",
              "0      1     1           5  2010-05-02 00:00:00    1643690.90             0   \n",
              "1      1     2           6  2010-12-02 00:00:00    1641957.44             1   \n",
              "2      1     3           7           19-02-2010    1611968.17             0   \n",
              "3      1     4           8           26-02-2010    1409727.59             0   \n",
              "4      1     5           9  2010-05-03 00:00:00    1554806.68             0   \n",
              "\n",
              "   Temperature  Fuel_Price         CPI  Unemployment  \n",
              "0        42.31       2.572  211.096358         8.106  \n",
              "1        38.51       2.548  211.242170         8.106  \n",
              "2        39.93       2.514  211.289143         8.106  \n",
              "3        46.63       2.561  211.319643         8.106  \n",
              "4        46.50       2.625  211.350143         8.106  "
            ],
            "text/html": [
              "\n",
              "  <div id=\"df-cae5d3d3-a73f-4543-8022-ed473a20d50c\" class=\"colab-df-container\">\n",
              "    <div>\n",
              "<style scoped>\n",
              "    .dataframe tbody tr th:only-of-type {\n",
              "        vertical-align: middle;\n",
              "    }\n",
              "\n",
              "    .dataframe tbody tr th {\n",
              "        vertical-align: top;\n",
              "    }\n",
              "\n",
              "    .dataframe thead th {\n",
              "        text-align: right;\n",
              "    }\n",
              "</style>\n",
              "<table border=\"1\" class=\"dataframe\">\n",
              "  <thead>\n",
              "    <tr style=\"text-align: right;\">\n",
              "      <th></th>\n",
              "      <th>Store</th>\n",
              "      <th>Week</th>\n",
              "      <th>Week_of_yr</th>\n",
              "      <th>Date</th>\n",
              "      <th>Weekly_Sales</th>\n",
              "      <th>Holiday_Flag</th>\n",
              "      <th>Temperature</th>\n",
              "      <th>Fuel_Price</th>\n",
              "      <th>CPI</th>\n",
              "      <th>Unemployment</th>\n",
              "    </tr>\n",
              "  </thead>\n",
              "  <tbody>\n",
              "    <tr>\n",
              "      <th>0</th>\n",
              "      <td>1</td>\n",
              "      <td>1</td>\n",
              "      <td>5</td>\n",
              "      <td>2010-05-02 00:00:00</td>\n",
              "      <td>1643690.90</td>\n",
              "      <td>0</td>\n",
              "      <td>42.31</td>\n",
              "      <td>2.572</td>\n",
              "      <td>211.096358</td>\n",
              "      <td>8.106</td>\n",
              "    </tr>\n",
              "    <tr>\n",
              "      <th>1</th>\n",
              "      <td>1</td>\n",
              "      <td>2</td>\n",
              "      <td>6</td>\n",
              "      <td>2010-12-02 00:00:00</td>\n",
              "      <td>1641957.44</td>\n",
              "      <td>1</td>\n",
              "      <td>38.51</td>\n",
              "      <td>2.548</td>\n",
              "      <td>211.242170</td>\n",
              "      <td>8.106</td>\n",
              "    </tr>\n",
              "    <tr>\n",
              "      <th>2</th>\n",
              "      <td>1</td>\n",
              "      <td>3</td>\n",
              "      <td>7</td>\n",
              "      <td>19-02-2010</td>\n",
              "      <td>1611968.17</td>\n",
              "      <td>0</td>\n",
              "      <td>39.93</td>\n",
              "      <td>2.514</td>\n",
              "      <td>211.289143</td>\n",
              "      <td>8.106</td>\n",
              "    </tr>\n",
              "    <tr>\n",
              "      <th>3</th>\n",
              "      <td>1</td>\n",
              "      <td>4</td>\n",
              "      <td>8</td>\n",
              "      <td>26-02-2010</td>\n",
              "      <td>1409727.59</td>\n",
              "      <td>0</td>\n",
              "      <td>46.63</td>\n",
              "      <td>2.561</td>\n",
              "      <td>211.319643</td>\n",
              "      <td>8.106</td>\n",
              "    </tr>\n",
              "    <tr>\n",
              "      <th>4</th>\n",
              "      <td>1</td>\n",
              "      <td>5</td>\n",
              "      <td>9</td>\n",
              "      <td>2010-05-03 00:00:00</td>\n",
              "      <td>1554806.68</td>\n",
              "      <td>0</td>\n",
              "      <td>46.50</td>\n",
              "      <td>2.625</td>\n",
              "      <td>211.350143</td>\n",
              "      <td>8.106</td>\n",
              "    </tr>\n",
              "  </tbody>\n",
              "</table>\n",
              "</div>\n",
              "    <div class=\"colab-df-buttons\">\n",
              "\n",
              "  <div class=\"colab-df-container\">\n",
              "    <button class=\"colab-df-convert\" onclick=\"convertToInteractive('df-cae5d3d3-a73f-4543-8022-ed473a20d50c')\"\n",
              "            title=\"Convert this dataframe to an interactive table.\"\n",
              "            style=\"display:none;\">\n",
              "\n",
              "  <svg xmlns=\"http://www.w3.org/2000/svg\" height=\"24px\" viewBox=\"0 -960 960 960\">\n",
              "    <path d=\"M120-120v-720h720v720H120Zm60-500h600v-160H180v160Zm220 220h160v-160H400v160Zm0 220h160v-160H400v160ZM180-400h160v-160H180v160Zm440 0h160v-160H620v160ZM180-180h160v-160H180v160Zm440 0h160v-160H620v160Z\"/>\n",
              "  </svg>\n",
              "    </button>\n",
              "\n",
              "  <style>\n",
              "    .colab-df-container {\n",
              "      display:flex;\n",
              "      gap: 12px;\n",
              "    }\n",
              "\n",
              "    .colab-df-convert {\n",
              "      background-color: #E8F0FE;\n",
              "      border: none;\n",
              "      border-radius: 50%;\n",
              "      cursor: pointer;\n",
              "      display: none;\n",
              "      fill: #1967D2;\n",
              "      height: 32px;\n",
              "      padding: 0 0 0 0;\n",
              "      width: 32px;\n",
              "    }\n",
              "\n",
              "    .colab-df-convert:hover {\n",
              "      background-color: #E2EBFA;\n",
              "      box-shadow: 0px 1px 2px rgba(60, 64, 67, 0.3), 0px 1px 3px 1px rgba(60, 64, 67, 0.15);\n",
              "      fill: #174EA6;\n",
              "    }\n",
              "\n",
              "    .colab-df-buttons div {\n",
              "      margin-bottom: 4px;\n",
              "    }\n",
              "\n",
              "    [theme=dark] .colab-df-convert {\n",
              "      background-color: #3B4455;\n",
              "      fill: #D2E3FC;\n",
              "    }\n",
              "\n",
              "    [theme=dark] .colab-df-convert:hover {\n",
              "      background-color: #434B5C;\n",
              "      box-shadow: 0px 1px 3px 1px rgba(0, 0, 0, 0.15);\n",
              "      filter: drop-shadow(0px 1px 2px rgba(0, 0, 0, 0.3));\n",
              "      fill: #FFFFFF;\n",
              "    }\n",
              "  </style>\n",
              "\n",
              "    <script>\n",
              "      const buttonEl =\n",
              "        document.querySelector('#df-cae5d3d3-a73f-4543-8022-ed473a20d50c button.colab-df-convert');\n",
              "      buttonEl.style.display =\n",
              "        google.colab.kernel.accessAllowed ? 'block' : 'none';\n",
              "\n",
              "      async function convertToInteractive(key) {\n",
              "        const element = document.querySelector('#df-cae5d3d3-a73f-4543-8022-ed473a20d50c');\n",
              "        const dataTable =\n",
              "          await google.colab.kernel.invokeFunction('convertToInteractive',\n",
              "                                                    [key], {});\n",
              "        if (!dataTable) return;\n",
              "\n",
              "        const docLinkHtml = 'Like what you see? Visit the ' +\n",
              "          '<a target=\"_blank\" href=https://colab.research.google.com/notebooks/data_table.ipynb>data table notebook</a>'\n",
              "          + ' to learn more about interactive tables.';\n",
              "        element.innerHTML = '';\n",
              "        dataTable['output_type'] = 'display_data';\n",
              "        await google.colab.output.renderOutput(dataTable, element);\n",
              "        const docLink = document.createElement('div');\n",
              "        docLink.innerHTML = docLinkHtml;\n",
              "        element.appendChild(docLink);\n",
              "      }\n",
              "    </script>\n",
              "  </div>\n",
              "\n",
              "\n",
              "<div id=\"df-9efbab49-61b6-404c-9287-5f5ea626c080\">\n",
              "  <button class=\"colab-df-quickchart\" onclick=\"quickchart('df-9efbab49-61b6-404c-9287-5f5ea626c080')\"\n",
              "            title=\"Suggest charts.\"\n",
              "            style=\"display:none;\">\n",
              "\n",
              "<svg xmlns=\"http://www.w3.org/2000/svg\" height=\"24px\"viewBox=\"0 0 24 24\"\n",
              "     width=\"24px\">\n",
              "    <g>\n",
              "        <path d=\"M19 3H5c-1.1 0-2 .9-2 2v14c0 1.1.9 2 2 2h14c1.1 0 2-.9 2-2V5c0-1.1-.9-2-2-2zM9 17H7v-7h2v7zm4 0h-2V7h2v10zm4 0h-2v-4h2v4z\"/>\n",
              "    </g>\n",
              "</svg>\n",
              "  </button>\n",
              "\n",
              "<style>\n",
              "  .colab-df-quickchart {\n",
              "      --bg-color: #E8F0FE;\n",
              "      --fill-color: #1967D2;\n",
              "      --hover-bg-color: #E2EBFA;\n",
              "      --hover-fill-color: #174EA6;\n",
              "      --disabled-fill-color: #AAA;\n",
              "      --disabled-bg-color: #DDD;\n",
              "  }\n",
              "\n",
              "  [theme=dark] .colab-df-quickchart {\n",
              "      --bg-color: #3B4455;\n",
              "      --fill-color: #D2E3FC;\n",
              "      --hover-bg-color: #434B5C;\n",
              "      --hover-fill-color: #FFFFFF;\n",
              "      --disabled-bg-color: #3B4455;\n",
              "      --disabled-fill-color: #666;\n",
              "  }\n",
              "\n",
              "  .colab-df-quickchart {\n",
              "    background-color: var(--bg-color);\n",
              "    border: none;\n",
              "    border-radius: 50%;\n",
              "    cursor: pointer;\n",
              "    display: none;\n",
              "    fill: var(--fill-color);\n",
              "    height: 32px;\n",
              "    padding: 0;\n",
              "    width: 32px;\n",
              "  }\n",
              "\n",
              "  .colab-df-quickchart:hover {\n",
              "    background-color: var(--hover-bg-color);\n",
              "    box-shadow: 0 1px 2px rgba(60, 64, 67, 0.3), 0 1px 3px 1px rgba(60, 64, 67, 0.15);\n",
              "    fill: var(--button-hover-fill-color);\n",
              "  }\n",
              "\n",
              "  .colab-df-quickchart-complete:disabled,\n",
              "  .colab-df-quickchart-complete:disabled:hover {\n",
              "    background-color: var(--disabled-bg-color);\n",
              "    fill: var(--disabled-fill-color);\n",
              "    box-shadow: none;\n",
              "  }\n",
              "\n",
              "  .colab-df-spinner {\n",
              "    border: 2px solid var(--fill-color);\n",
              "    border-color: transparent;\n",
              "    border-bottom-color: var(--fill-color);\n",
              "    animation:\n",
              "      spin 1s steps(1) infinite;\n",
              "  }\n",
              "\n",
              "  @keyframes spin {\n",
              "    0% {\n",
              "      border-color: transparent;\n",
              "      border-bottom-color: var(--fill-color);\n",
              "      border-left-color: var(--fill-color);\n",
              "    }\n",
              "    20% {\n",
              "      border-color: transparent;\n",
              "      border-left-color: var(--fill-color);\n",
              "      border-top-color: var(--fill-color);\n",
              "    }\n",
              "    30% {\n",
              "      border-color: transparent;\n",
              "      border-left-color: var(--fill-color);\n",
              "      border-top-color: var(--fill-color);\n",
              "      border-right-color: var(--fill-color);\n",
              "    }\n",
              "    40% {\n",
              "      border-color: transparent;\n",
              "      border-right-color: var(--fill-color);\n",
              "      border-top-color: var(--fill-color);\n",
              "    }\n",
              "    60% {\n",
              "      border-color: transparent;\n",
              "      border-right-color: var(--fill-color);\n",
              "    }\n",
              "    80% {\n",
              "      border-color: transparent;\n",
              "      border-right-color: var(--fill-color);\n",
              "      border-bottom-color: var(--fill-color);\n",
              "    }\n",
              "    90% {\n",
              "      border-color: transparent;\n",
              "      border-bottom-color: var(--fill-color);\n",
              "    }\n",
              "  }\n",
              "</style>\n",
              "\n",
              "  <script>\n",
              "    async function quickchart(key) {\n",
              "      const quickchartButtonEl =\n",
              "        document.querySelector('#' + key + ' button');\n",
              "      quickchartButtonEl.disabled = true;  // To prevent multiple clicks.\n",
              "      quickchartButtonEl.classList.add('colab-df-spinner');\n",
              "      try {\n",
              "        const charts = await google.colab.kernel.invokeFunction(\n",
              "            'suggestCharts', [key], {});\n",
              "      } catch (error) {\n",
              "        console.error('Error during call to suggestCharts:', error);\n",
              "      }\n",
              "      quickchartButtonEl.classList.remove('colab-df-spinner');\n",
              "      quickchartButtonEl.classList.add('colab-df-quickchart-complete');\n",
              "    }\n",
              "    (() => {\n",
              "      let quickchartButtonEl =\n",
              "        document.querySelector('#df-9efbab49-61b6-404c-9287-5f5ea626c080 button');\n",
              "      quickchartButtonEl.style.display =\n",
              "        google.colab.kernel.accessAllowed ? 'block' : 'none';\n",
              "    })();\n",
              "  </script>\n",
              "</div>\n",
              "    </div>\n",
              "  </div>\n"
            ]
          },
          "metadata": {},
          "execution_count": 178
        }
      ]
    },
    {
      "cell_type": "markdown",
      "source": [
        "# Indexing\n",
        "\n",
        "loc gets rows (and/or columns) with particular labels.\n",
        "iloc gets rows (and/or columns) at integer locations."
      ],
      "metadata": {
        "id": "dRrCDgc84oWP"
      },
      "id": "dRrCDgc84oWP"
    },
    {
      "cell_type": "code",
      "source": [
        "import pandas as pd\n",
        "\n",
        "data = {\n",
        "  \"calories\": [420, 380, 390],\n",
        "  \"duration\": [50, 40, 45]\n",
        "}\n",
        "\n",
        "df = pd.DataFrame(data, index = [\"day1\", \"day2\", \"day3\"])\n",
        "\n",
        "df"
      ],
      "metadata": {
        "colab": {
          "base_uri": "https://localhost:8080/",
          "height": 143
        },
        "id": "G-Qafp4f4l1p",
        "outputId": "8f7dd037-5407-4352-e806-9c3566d8edc9"
      },
      "id": "G-Qafp4f4l1p",
      "execution_count": null,
      "outputs": [
        {
          "output_type": "execute_result",
          "data": {
            "text/plain": [
              "      calories  duration\n",
              "day1       420        50\n",
              "day2       380        40\n",
              "day3       390        45"
            ],
            "text/html": [
              "\n",
              "  <div id=\"df-ec2ff45a-1aab-4286-b288-be36958ece72\" class=\"colab-df-container\">\n",
              "    <div>\n",
              "<style scoped>\n",
              "    .dataframe tbody tr th:only-of-type {\n",
              "        vertical-align: middle;\n",
              "    }\n",
              "\n",
              "    .dataframe tbody tr th {\n",
              "        vertical-align: top;\n",
              "    }\n",
              "\n",
              "    .dataframe thead th {\n",
              "        text-align: right;\n",
              "    }\n",
              "</style>\n",
              "<table border=\"1\" class=\"dataframe\">\n",
              "  <thead>\n",
              "    <tr style=\"text-align: right;\">\n",
              "      <th></th>\n",
              "      <th>calories</th>\n",
              "      <th>duration</th>\n",
              "    </tr>\n",
              "  </thead>\n",
              "  <tbody>\n",
              "    <tr>\n",
              "      <th>day1</th>\n",
              "      <td>420</td>\n",
              "      <td>50</td>\n",
              "    </tr>\n",
              "    <tr>\n",
              "      <th>day2</th>\n",
              "      <td>380</td>\n",
              "      <td>40</td>\n",
              "    </tr>\n",
              "    <tr>\n",
              "      <th>day3</th>\n",
              "      <td>390</td>\n",
              "      <td>45</td>\n",
              "    </tr>\n",
              "  </tbody>\n",
              "</table>\n",
              "</div>\n",
              "    <div class=\"colab-df-buttons\">\n",
              "\n",
              "  <div class=\"colab-df-container\">\n",
              "    <button class=\"colab-df-convert\" onclick=\"convertToInteractive('df-ec2ff45a-1aab-4286-b288-be36958ece72')\"\n",
              "            title=\"Convert this dataframe to an interactive table.\"\n",
              "            style=\"display:none;\">\n",
              "\n",
              "  <svg xmlns=\"http://www.w3.org/2000/svg\" height=\"24px\" viewBox=\"0 -960 960 960\">\n",
              "    <path d=\"M120-120v-720h720v720H120Zm60-500h600v-160H180v160Zm220 220h160v-160H400v160Zm0 220h160v-160H400v160ZM180-400h160v-160H180v160Zm440 0h160v-160H620v160ZM180-180h160v-160H180v160Zm440 0h160v-160H620v160Z\"/>\n",
              "  </svg>\n",
              "    </button>\n",
              "\n",
              "  <style>\n",
              "    .colab-df-container {\n",
              "      display:flex;\n",
              "      gap: 12px;\n",
              "    }\n",
              "\n",
              "    .colab-df-convert {\n",
              "      background-color: #E8F0FE;\n",
              "      border: none;\n",
              "      border-radius: 50%;\n",
              "      cursor: pointer;\n",
              "      display: none;\n",
              "      fill: #1967D2;\n",
              "      height: 32px;\n",
              "      padding: 0 0 0 0;\n",
              "      width: 32px;\n",
              "    }\n",
              "\n",
              "    .colab-df-convert:hover {\n",
              "      background-color: #E2EBFA;\n",
              "      box-shadow: 0px 1px 2px rgba(60, 64, 67, 0.3), 0px 1px 3px 1px rgba(60, 64, 67, 0.15);\n",
              "      fill: #174EA6;\n",
              "    }\n",
              "\n",
              "    .colab-df-buttons div {\n",
              "      margin-bottom: 4px;\n",
              "    }\n",
              "\n",
              "    [theme=dark] .colab-df-convert {\n",
              "      background-color: #3B4455;\n",
              "      fill: #D2E3FC;\n",
              "    }\n",
              "\n",
              "    [theme=dark] .colab-df-convert:hover {\n",
              "      background-color: #434B5C;\n",
              "      box-shadow: 0px 1px 3px 1px rgba(0, 0, 0, 0.15);\n",
              "      filter: drop-shadow(0px 1px 2px rgba(0, 0, 0, 0.3));\n",
              "      fill: #FFFFFF;\n",
              "    }\n",
              "  </style>\n",
              "\n",
              "    <script>\n",
              "      const buttonEl =\n",
              "        document.querySelector('#df-ec2ff45a-1aab-4286-b288-be36958ece72 button.colab-df-convert');\n",
              "      buttonEl.style.display =\n",
              "        google.colab.kernel.accessAllowed ? 'block' : 'none';\n",
              "\n",
              "      async function convertToInteractive(key) {\n",
              "        const element = document.querySelector('#df-ec2ff45a-1aab-4286-b288-be36958ece72');\n",
              "        const dataTable =\n",
              "          await google.colab.kernel.invokeFunction('convertToInteractive',\n",
              "                                                    [key], {});\n",
              "        if (!dataTable) return;\n",
              "\n",
              "        const docLinkHtml = 'Like what you see? Visit the ' +\n",
              "          '<a target=\"_blank\" href=https://colab.research.google.com/notebooks/data_table.ipynb>data table notebook</a>'\n",
              "          + ' to learn more about interactive tables.';\n",
              "        element.innerHTML = '';\n",
              "        dataTable['output_type'] = 'display_data';\n",
              "        await google.colab.output.renderOutput(dataTable, element);\n",
              "        const docLink = document.createElement('div');\n",
              "        docLink.innerHTML = docLinkHtml;\n",
              "        element.appendChild(docLink);\n",
              "      }\n",
              "    </script>\n",
              "  </div>\n",
              "\n",
              "\n",
              "<div id=\"df-2726367a-4053-44ca-98a0-15e4271d88c0\">\n",
              "  <button class=\"colab-df-quickchart\" onclick=\"quickchart('df-2726367a-4053-44ca-98a0-15e4271d88c0')\"\n",
              "            title=\"Suggest charts.\"\n",
              "            style=\"display:none;\">\n",
              "\n",
              "<svg xmlns=\"http://www.w3.org/2000/svg\" height=\"24px\"viewBox=\"0 0 24 24\"\n",
              "     width=\"24px\">\n",
              "    <g>\n",
              "        <path d=\"M19 3H5c-1.1 0-2 .9-2 2v14c0 1.1.9 2 2 2h14c1.1 0 2-.9 2-2V5c0-1.1-.9-2-2-2zM9 17H7v-7h2v7zm4 0h-2V7h2v10zm4 0h-2v-4h2v4z\"/>\n",
              "    </g>\n",
              "</svg>\n",
              "  </button>\n",
              "\n",
              "<style>\n",
              "  .colab-df-quickchart {\n",
              "      --bg-color: #E8F0FE;\n",
              "      --fill-color: #1967D2;\n",
              "      --hover-bg-color: #E2EBFA;\n",
              "      --hover-fill-color: #174EA6;\n",
              "      --disabled-fill-color: #AAA;\n",
              "      --disabled-bg-color: #DDD;\n",
              "  }\n",
              "\n",
              "  [theme=dark] .colab-df-quickchart {\n",
              "      --bg-color: #3B4455;\n",
              "      --fill-color: #D2E3FC;\n",
              "      --hover-bg-color: #434B5C;\n",
              "      --hover-fill-color: #FFFFFF;\n",
              "      --disabled-bg-color: #3B4455;\n",
              "      --disabled-fill-color: #666;\n",
              "  }\n",
              "\n",
              "  .colab-df-quickchart {\n",
              "    background-color: var(--bg-color);\n",
              "    border: none;\n",
              "    border-radius: 50%;\n",
              "    cursor: pointer;\n",
              "    display: none;\n",
              "    fill: var(--fill-color);\n",
              "    height: 32px;\n",
              "    padding: 0;\n",
              "    width: 32px;\n",
              "  }\n",
              "\n",
              "  .colab-df-quickchart:hover {\n",
              "    background-color: var(--hover-bg-color);\n",
              "    box-shadow: 0 1px 2px rgba(60, 64, 67, 0.3), 0 1px 3px 1px rgba(60, 64, 67, 0.15);\n",
              "    fill: var(--button-hover-fill-color);\n",
              "  }\n",
              "\n",
              "  .colab-df-quickchart-complete:disabled,\n",
              "  .colab-df-quickchart-complete:disabled:hover {\n",
              "    background-color: var(--disabled-bg-color);\n",
              "    fill: var(--disabled-fill-color);\n",
              "    box-shadow: none;\n",
              "  }\n",
              "\n",
              "  .colab-df-spinner {\n",
              "    border: 2px solid var(--fill-color);\n",
              "    border-color: transparent;\n",
              "    border-bottom-color: var(--fill-color);\n",
              "    animation:\n",
              "      spin 1s steps(1) infinite;\n",
              "  }\n",
              "\n",
              "  @keyframes spin {\n",
              "    0% {\n",
              "      border-color: transparent;\n",
              "      border-bottom-color: var(--fill-color);\n",
              "      border-left-color: var(--fill-color);\n",
              "    }\n",
              "    20% {\n",
              "      border-color: transparent;\n",
              "      border-left-color: var(--fill-color);\n",
              "      border-top-color: var(--fill-color);\n",
              "    }\n",
              "    30% {\n",
              "      border-color: transparent;\n",
              "      border-left-color: var(--fill-color);\n",
              "      border-top-color: var(--fill-color);\n",
              "      border-right-color: var(--fill-color);\n",
              "    }\n",
              "    40% {\n",
              "      border-color: transparent;\n",
              "      border-right-color: var(--fill-color);\n",
              "      border-top-color: var(--fill-color);\n",
              "    }\n",
              "    60% {\n",
              "      border-color: transparent;\n",
              "      border-right-color: var(--fill-color);\n",
              "    }\n",
              "    80% {\n",
              "      border-color: transparent;\n",
              "      border-right-color: var(--fill-color);\n",
              "      border-bottom-color: var(--fill-color);\n",
              "    }\n",
              "    90% {\n",
              "      border-color: transparent;\n",
              "      border-bottom-color: var(--fill-color);\n",
              "    }\n",
              "  }\n",
              "</style>\n",
              "\n",
              "  <script>\n",
              "    async function quickchart(key) {\n",
              "      const quickchartButtonEl =\n",
              "        document.querySelector('#' + key + ' button');\n",
              "      quickchartButtonEl.disabled = true;  // To prevent multiple clicks.\n",
              "      quickchartButtonEl.classList.add('colab-df-spinner');\n",
              "      try {\n",
              "        const charts = await google.colab.kernel.invokeFunction(\n",
              "            'suggestCharts', [key], {});\n",
              "      } catch (error) {\n",
              "        console.error('Error during call to suggestCharts:', error);\n",
              "      }\n",
              "      quickchartButtonEl.classList.remove('colab-df-spinner');\n",
              "      quickchartButtonEl.classList.add('colab-df-quickchart-complete');\n",
              "    }\n",
              "    (() => {\n",
              "      let quickchartButtonEl =\n",
              "        document.querySelector('#df-2726367a-4053-44ca-98a0-15e4271d88c0 button');\n",
              "      quickchartButtonEl.style.display =\n",
              "        google.colab.kernel.accessAllowed ? 'block' : 'none';\n",
              "    })();\n",
              "  </script>\n",
              "</div>\n",
              "    </div>\n",
              "  </div>\n"
            ]
          },
          "metadata": {},
          "execution_count": 179
        }
      ]
    },
    {
      "cell_type": "markdown",
      "source": [
        "The code df.iloc[0] is used to select the first row of the DataFrame df using integer-based indexing (position-based indexing)."
      ],
      "metadata": {
        "id": "B7MxnQbYMzKM"
      },
      "id": "B7MxnQbYMzKM"
    },
    {
      "cell_type": "code",
      "source": [
        "df.iloc[0]"
      ],
      "metadata": {
        "colab": {
          "base_uri": "https://localhost:8080/"
        },
        "id": "k4MUYLru2mRJ",
        "outputId": "bf43a6b7-befa-47c1-a90f-b90d8745a684"
      },
      "id": "k4MUYLru2mRJ",
      "execution_count": null,
      "outputs": [
        {
          "output_type": "execute_result",
          "data": {
            "text/plain": [
              "calories    420\n",
              "duration     50\n",
              "Name: day1, dtype: int64"
            ]
          },
          "metadata": {},
          "execution_count": 180
        }
      ]
    },
    {
      "cell_type": "markdown",
      "source": [
        "The code df.loc['day1'] is used to select a specific row from the DataFrame df using label-based indexing."
      ],
      "metadata": {
        "id": "zF0kO_HmM3ZX"
      },
      "id": "zF0kO_HmM3ZX"
    },
    {
      "cell_type": "code",
      "source": [
        "df.loc['day1']"
      ],
      "metadata": {
        "colab": {
          "base_uri": "https://localhost:8080/"
        },
        "id": "SRiRMeJ_3elr",
        "outputId": "2d0aa937-a95b-42bb-a367-d56f7b62905a"
      },
      "id": "SRiRMeJ_3elr",
      "execution_count": null,
      "outputs": [
        {
          "output_type": "execute_result",
          "data": {
            "text/plain": [
              "calories    420\n",
              "duration     50\n",
              "Name: day1, dtype: int64"
            ]
          },
          "metadata": {},
          "execution_count": 181
        }
      ]
    },
    {
      "cell_type": "markdown",
      "source": [
        "loc takes two single/list/range operator separated by ','. The first one indicates the row and the second one indicates columns."
      ],
      "metadata": {
        "id": "0wda8yu-NatJ"
      },
      "id": "0wda8yu-NatJ"
    },
    {
      "cell_type": "code",
      "source": [
        "import pandas as pd\n",
        "import numpy as np\n",
        "\n",
        "df = pd.DataFrame(np.random.randn(8, 4),\n",
        "                  index=['a', 'b', 'c', 'd', 'e', 'f', 'g', 'h'],\n",
        "                  columns=['A', 'B', 'C', 'D'])\n",
        "print(df)\n",
        "# Select all rows for a specific column ('A')\n",
        "print(\"\")\n",
        "print(df.loc[:, 'A'])\n"
      ],
      "metadata": {
        "colab": {
          "base_uri": "https://localhost:8080/"
        },
        "id": "VFB9GMEpNHJl",
        "outputId": "728494a6-8de4-42b3-a0bc-636dcb125df2"
      },
      "id": "VFB9GMEpNHJl",
      "execution_count": null,
      "outputs": [
        {
          "output_type": "stream",
          "name": "stdout",
          "text": [
            "          A         B         C         D\n",
            "a -1.434750 -0.495902 -0.233510  0.736706\n",
            "b -1.360210 -1.038922  0.361314  0.562818\n",
            "c -0.184994  1.131817  1.144204 -2.184364\n",
            "d  0.231660  1.068379 -0.359161  0.535548\n",
            "e  0.146175  0.000155  1.493261  0.999770\n",
            "f -0.734555 -0.303083 -1.003610  0.771407\n",
            "g  2.803398 -2.189080 -0.389887  1.231377\n",
            "h -1.331567  0.447681  0.042184  0.100780\n",
            "\n",
            "a   -1.434750\n",
            "b   -1.360210\n",
            "c   -0.184994\n",
            "d    0.231660\n",
            "e    0.146175\n",
            "f   -0.734555\n",
            "g    2.803398\n",
            "h   -1.331567\n",
            "Name: A, dtype: float64\n"
          ]
        }
      ]
    },
    {
      "cell_type": "code",
      "source": [
        "# Select all rows for multiple columns, say list[]\n",
        "print(df.loc[:,['A','C']])"
      ],
      "metadata": {
        "colab": {
          "base_uri": "https://localhost:8080/"
        },
        "id": "rm9nX0C8NHg8",
        "outputId": "82930c64-f371-4268-ad24-b0e837aabe1d"
      },
      "id": "rm9nX0C8NHg8",
      "execution_count": null,
      "outputs": [
        {
          "output_type": "stream",
          "name": "stdout",
          "text": [
            "          A         C\n",
            "a -1.434750 -0.233510\n",
            "b -1.360210  0.361314\n",
            "c -0.184994  1.144204\n",
            "d  0.231660 -0.359161\n",
            "e  0.146175  1.493261\n",
            "f -0.734555 -1.003610\n",
            "g  2.803398 -0.389887\n",
            "h -1.331567  0.042184\n"
          ]
        }
      ]
    },
    {
      "cell_type": "code",
      "source": [
        "# Select few rows for multiple columns, say list[]\n",
        "print(df.loc[['a','b','f','h'],['A','C']])"
      ],
      "metadata": {
        "colab": {
          "base_uri": "https://localhost:8080/"
        },
        "id": "983tMBPLNjbd",
        "outputId": "72e40d93-e865-4fca-de7c-b41deb947188"
      },
      "id": "983tMBPLNjbd",
      "execution_count": null,
      "outputs": [
        {
          "output_type": "stream",
          "name": "stdout",
          "text": [
            "          A         C\n",
            "a -1.434750 -0.233510\n",
            "b -1.360210  0.361314\n",
            "f -0.734555 -1.003610\n",
            "h -1.331567  0.042184\n"
          ]
        }
      ]
    },
    {
      "cell_type": "markdown",
      "source": [
        "iloc()\n",
        "Pandas provide various methods in order to get purely integer based indexing. Like python and numpy, these are 0-based indexing.\n",
        "\n",
        "The various access methods are as follows −\n",
        "\n",
        "An Integer\n",
        "A list of integers\n",
        "A range of values"
      ],
      "metadata": {
        "id": "AgiaR3XIN3Hw"
      },
      "id": "AgiaR3XIN3Hw"
    },
    {
      "cell_type": "code",
      "source": [
        "# import the pandas library and aliasing as pd\n",
        "import pandas as pd\n",
        "import numpy as np\n",
        "\n",
        "df = pd.DataFrame(np.random.randn(8, 4), columns = ['A', 'B', 'C', 'D'])\n",
        "print(df)\n",
        "# select all rows for a specific column\n",
        "print(df.iloc[:4])"
      ],
      "metadata": {
        "colab": {
          "base_uri": "https://localhost:8080/"
        },
        "id": "22qiYfroNsxE",
        "outputId": "d4421a7f-2d6c-463b-c735-1ae03f20cd86"
      },
      "id": "22qiYfroNsxE",
      "execution_count": null,
      "outputs": [
        {
          "output_type": "stream",
          "name": "stdout",
          "text": [
            "          A         B         C         D\n",
            "0  0.975864  1.009404 -3.155155  1.645453\n",
            "1  0.444330 -0.164647 -0.682882  0.956244\n",
            "2  0.038874  0.643542  0.419152 -0.682740\n",
            "3 -1.624940  0.580844  0.781779 -0.993370\n",
            "4  1.025471  0.039047  2.155619  1.315131\n",
            "5  0.327939  1.662426 -0.593964  0.374383\n",
            "6 -0.490418  0.738328  0.522386 -0.922936\n",
            "7 -0.261719  0.456845 -0.007314 -0.435472\n",
            "          A         B         C         D\n",
            "0  0.975864  1.009404 -3.155155  1.645453\n",
            "1  0.444330 -0.164647 -0.682882  0.956244\n",
            "2  0.038874  0.643542  0.419152 -0.682740\n",
            "3 -1.624940  0.580844  0.781779 -0.993370\n"
          ]
        }
      ]
    },
    {
      "cell_type": "code",
      "source": [
        "print(df.iloc[1:5, 2:4])"
      ],
      "metadata": {
        "colab": {
          "base_uri": "https://localhost:8080/"
        },
        "id": "LLObVwkhN4kG",
        "outputId": "1d857fcc-720b-4521-94de-f092bf6a0f9d"
      },
      "id": "LLObVwkhN4kG",
      "execution_count": null,
      "outputs": [
        {
          "output_type": "stream",
          "name": "stdout",
          "text": [
            "          C         D\n",
            "1 -0.682882  0.956244\n",
            "2  0.419152 -0.682740\n",
            "3  0.781779 -0.993370\n",
            "4  2.155619  1.315131\n"
          ]
        }
      ]
    },
    {
      "cell_type": "code",
      "source": [],
      "metadata": {
        "id": "HAGUtfw1OVVm"
      },
      "id": "HAGUtfw1OVVm",
      "execution_count": null,
      "outputs": []
    }
  ],
  "metadata": {
    "kernelspec": {
      "display_name": "Python 3 (ipykernel)",
      "language": "python",
      "name": "python3"
    },
    "language_info": {
      "codemirror_mode": {
        "name": "ipython",
        "version": 3
      },
      "file_extension": ".py",
      "mimetype": "text/x-python",
      "name": "python",
      "nbconvert_exporter": "python",
      "pygments_lexer": "ipython3",
      "version": "3.9.12"
    },
    "colab": {
      "provenance": [],
      "include_colab_link": true
    }
  },
  "nbformat": 4,
  "nbformat_minor": 5
}